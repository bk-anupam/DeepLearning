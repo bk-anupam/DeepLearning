{
 "cells": [
  {
   "cell_type": "code",
   "execution_count": 49,
   "source": [
    "from fastai.data.all import *\r\n",
    "from fastai.vision.all import *\r\n",
    "import torch\r\n",
    "import ipywidgets as widgets\r\n",
    "from fastai.vision.widgets import *"
   ],
   "outputs": [],
   "metadata": {}
  },
  {
   "cell_type": "code",
   "execution_count": 50,
   "source": [
    "path = untar_data(URLs.MNIST)\r\n",
    "path"
   ],
   "outputs": [
    {
     "output_type": "execute_result",
     "data": {
      "text/plain": [
       "Path('C:/Users/anupam/.fastai/data/mnist_png')"
      ]
     },
     "metadata": {},
     "execution_count": 50
    }
   ],
   "metadata": {}
  },
  {
   "cell_type": "code",
   "execution_count": 51,
   "source": [
    "path.ls"
   ],
   "outputs": [
    {
     "output_type": "execute_result",
     "data": {
      "text/plain": [
       "<bound method Path.ls of Path('C:/Users/anupam/.fastai/data/mnist_png')>"
      ]
     },
     "metadata": {},
     "execution_count": 51
    }
   ],
   "metadata": {}
  },
  {
   "cell_type": "code",
   "execution_count": 52,
   "source": [
    "train_images = get_files(path/'training', recurse=True, extensions=\".png\")\r\n",
    "len(train_images)"
   ],
   "outputs": [
    {
     "output_type": "execute_result",
     "data": {
      "text/plain": [
       "60000"
      ]
     },
     "metadata": {},
     "execution_count": 52
    }
   ],
   "metadata": {}
  },
  {
   "cell_type": "code",
   "execution_count": 53,
   "source": [
    "from nbdev import show_doc\r\n",
    "show_doc(Path)"
   ],
   "outputs": [
    {
     "output_type": "display_data",
     "data": {
      "text/markdown": [
       "<h2 id=\"Path\" class=\"doc_header\"><code>class</code> <code>Path</code><a href=\"pathlib.py#L1021\" class=\"source_link\" style=\"float:right\">[source]</a></h2>\n",
       "\n",
       "> <code>Path</code>(**\\*`args`**, **\\*\\*`kwargs`**) :: `PurePath`\n",
       "\n",
       "PurePath subclass that can make system calls.\n",
       "\n",
       "Path represents a filesystem path but unlike PurePath, also offers\n",
       "methods to do system calls on path objects. Depending on your system,\n",
       "instantiating a Path will return either a PosixPath or a WindowsPath\n",
       "object. You can also instantiate a PosixPath or WindowsPath directly,\n",
       "but cannot instantiate a WindowsPath on a POSIX system or vice versa."
      ],
      "text/plain": [
       "<IPython.core.display.Markdown object>"
      ]
     },
     "metadata": {}
    }
   ],
   "metadata": {}
  },
  {
   "cell_type": "code",
   "execution_count": 54,
   "source": [
    "test_images = get_image_files(path/'testing')\r\n",
    "type(test_images)"
   ],
   "outputs": [
    {
     "output_type": "execute_result",
     "data": {
      "text/plain": [
       "fastcore.foundation.L"
      ]
     },
     "metadata": {},
     "execution_count": 54
    }
   ],
   "metadata": {}
  },
  {
   "cell_type": "code",
   "execution_count": 55,
   "source": [
    "db_mnist = DataBlock(blocks=(ImageBlock(cls=PILImageBW), CategoryBlock),\r\n",
    "                    get_items=get_image_files,\r\n",
    "                    splitter=GrandparentSplitter(train_name=\"training\", valid_name=\"testing\"),\r\n",
    "                    get_y=parent_label)"
   ],
   "outputs": [],
   "metadata": {}
  },
  {
   "cell_type": "code",
   "execution_count": 56,
   "source": [
    "# calculate the mean and std dev of training image data\r\n",
    "from torchvision import transforms\r\n",
    "\r\n",
    "to_tensor = transforms.ToTensor()\r\n",
    "img_train = [to_tensor(img) for img, label in db_mnist.datasets(path/'training')]\r\n",
    "img_train_stack = torch.stack(img_train, dim=3)\r\n",
    "img_train_stack_1d = img_train_stack.view(1, -1)\r\n",
    "img_mean = img_train_stack_1d.mean(dim=1)\r\n",
    "img_stdev = img_train_stack_1d.std(dim = 1)\r\n",
    "print(f\"Mean = {img_mean}, Std. dev. = {img_stdev}\")"
   ],
   "outputs": [
    {
     "output_type": "stream",
     "name": "stdout",
     "text": [
      "Mean = tensor([0.1307]), Std. dev. = tensor([0.3081])\n"
     ]
    }
   ],
   "metadata": {}
  },
  {
   "cell_type": "code",
   "execution_count": 57,
   "source": [
    "# batc\r\n",
    "norm_tfm = Normalize.from_stats(img_mean, img_stdev)\r\n",
    "norm_tfm"
   ],
   "outputs": [
    {
     "output_type": "execute_result",
     "data": {
      "text/plain": [
       "Normalize -- {'mean': tensor([[[[0.1307]]]], device='cuda:0'), 'std': tensor([[[[0.3081]]]], device='cuda:0'), 'axes': (0, 2, 3)}:\n",
       "encodes: (TensorImage,object) -> encodes\n",
       "decodes: (TensorImage,object) -> decodes"
      ]
     },
     "metadata": {},
     "execution_count": 57
    }
   ],
   "metadata": {}
  },
  {
   "cell_type": "markdown",
   "source": [
    "# Multiple ways to add normalize transform"
   ],
   "metadata": {}
  },
  {
   "cell_type": "code",
   "execution_count": 58,
   "source": [
    "# Approach 1\r\n",
    "# Create a data loader using helper function which internally make a call to DataBlock api\r\n",
    "fnames = get_image_files(path)\r\n",
    "def label_func(x): return x.parent.name\r\n",
    "dl_mnist = ImageDataLoaders.from_path_func(path, fnames, label_func, seed=42, batch_tfms=norm_tfm)"
   ],
   "outputs": [
    {
     "output_type": "stream",
     "name": "stdout",
     "text": [
      "Due to IPython and Windows limitation, python multiprocessing isn't available now.\n",
      "So `number_workers` is changed to 0 to avoid getting stuck\n"
     ]
    }
   ],
   "metadata": {}
  },
  {
   "cell_type": "code",
   "execution_count": 59,
   "source": [
    "# Approach 2\r\n",
    "# create a data block with the required transforms in place\r\n",
    "db_mnist_norm = DataBlock(blocks=(ImageBlock(cls=PILImageBW), CategoryBlock),\r\n",
    "                    get_items=get_image_files,\r\n",
    "                    splitter=GrandparentSplitter(train_name=\"training\", valid_name=\"testing\"),\r\n",
    "                    get_y=parent_label,\r\n",
    "                    batch_tfms=norm_tfm)"
   ],
   "outputs": [],
   "metadata": {}
  },
  {
   "cell_type": "code",
   "execution_count": null,
   "source": [
    "from torchvision import datasets\r\n",
    "\r\n",
    "data_path = \"./dataset\"\r\n",
    "device = torch.device('cuda' if torch.cuda.is_available() else 'cpu')\r\n",
    "data_transform = transforms.Compose([transforms.ToTensor(), \r\n",
    "                                     transforms.Normalize(img_mean, img_stdev)])\r\n",
    "\r\n",
    "train_mnist = datasets.MNIST(data_path, train=True, download=False, transform = data_transform)\r\n",
    "val_mnist = datasets.MNIST(data_path, train=False, download=False, transform=data_transform)\r\n",
    "img_to_1d_tensor = Transform(lambda img: img.view(img.shape[0], -1))\r\n",
    "#train_dl = TfmdDL(train_mnist, device=device, shuffle=True)\r\n",
    "dls = DataLoaders.from_dsets(train_mnist, val_mnist, device=device)"
   ],
   "outputs": [],
   "metadata": {}
  },
  {
   "cell_type": "code",
   "execution_count": 62,
   "source": [
    "# Approach 3\r\n",
    "# Create a data loader from the previously created data block and add the transform to it\r\n",
    "# Note that batch transforms are applied on the entire batch on gpu whereas\r\n",
    "# item transforms are applied item wise on cpu before the batch is created ( transform like Resize ). \r\n",
    "dl_mnist_norm = DataLoaders(db_mnist.dataloaders(path))\r\n",
    "dl_mnist_norm.add_tfms([norm_tfm], 'after_batch')\r\n",
    "print(dl_mnist_norm.train.after_item)\r\n",
    "print()\r\n",
    "print(dl_mnist_norm.after_batch)"
   ],
   "outputs": [
    {
     "output_type": "stream",
     "name": "stdout",
     "text": [
      "Due to IPython and Windows limitation, python multiprocessing isn't available now.\n",
      "So `number_workers` is changed to 0 to avoid getting stuck\n",
      "Pipeline: ToTensor\n",
      "\n",
      "Pipeline: IntToFloatTensor -- {'div': 255.0, 'div_mask': 1} -> Normalize -- {'mean': tensor([[[[0.1307]]]], device='cuda:0'), 'std': tensor([[[[0.3081]]]], device='cuda:0'), 'axes': (0, 2, 3)}\n"
     ]
    }
   ],
   "metadata": {}
  },
  {
   "cell_type": "code",
   "execution_count": null,
   "source": [
    "db_mnist_norm.summary(path)"
   ],
   "outputs": [],
   "metadata": {}
  },
  {
   "cell_type": "code",
   "execution_count": null,
   "source": [
    "# the default transforms that appy on the mnist datablock\r\n",
    "print(db_mnist.type_tfms)\r\n",
    "print(db_mnist.default_item_tfms)\r\n",
    "print(db_mnist.default_batch_tfms)"
   ],
   "outputs": [],
   "metadata": {}
  },
  {
   "cell_type": "code",
   "execution_count": 64,
   "source": [
    "dl_mnist.show_batch(max_n=15, figsize=(4,4))"
   ],
   "outputs": [
    {
     "output_type": "display_data",
     "data": {
      "image/png": "[encoded data removed]",
      "text/plain": [
       "<Figure size 288x288 with 15 Axes>"
      ]
     },
     "metadata": {
      "needs_background": "light"
     }
    }
   ],
   "metadata": {}
  },
  {
   "cell_type": "code",
   "execution_count": null,
   "source": [],
   "outputs": [],
   "metadata": {}
  }
 ],
 "metadata": {
  "interpreter": {
   "hash": "2ff06204c0662b9359ef4233b0e8cfcc016e07736dbe455d1edaa8487878aae2"
  },
  "kernelspec": {
   "name": "python3",
   "display_name": "Python 3.8.5 64-bit ('fastai': conda)"
  },
  "language_info": {
   "codemirror_mode": {
    "name": "ipython",
    "version": 3
   },
   "file_extension": ".py",
   "mimetype": "text/x-python",
   "name": "python",
   "nbconvert_exporter": "python",
   "pygments_lexer": "ipython3",
   "version": "3.8.5"
  }
 },
 "nbformat": 4,
 "nbformat_minor": 4
}