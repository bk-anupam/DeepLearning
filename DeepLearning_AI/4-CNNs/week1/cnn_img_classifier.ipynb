{
 "cells": [
  {
   "cell_type": "markdown",
   "source": [
    "# Convolutional Neural Networks: Build an image classifier using pytorch and fastai"
   ],
   "metadata": {}
  },
  {
   "cell_type": "code",
   "execution_count": 1,
   "source": [
    "import numpy as np\r\n",
    "import h5py\r\n",
    "import matplotlib.pyplot as plt\r\n",
    "import scipy\r\n",
    "import torch\r\n",
    "import torch.nn as nn\r\n",
    "from PIL import Image\r\n",
    "from scipy import ndimage\r\n",
    "from fastai.vision.all import *\r\n",
    "from torchvision import transforms\r\n",
    "from torch.utils.data import Dataset, DataLoader\r\n",
    "from sklearn.model_selection import StratifiedKFold\r\n",
    "\r\n",
    "%matplotlib inline\r\n",
    "np.random.seed(1)"
   ],
   "outputs": [],
   "metadata": {
    "collapsed": true
   }
  },
  {
   "cell_type": "code",
   "execution_count": 2,
   "source": [
    "class NpArrayImageDataset(Dataset):\r\n",
    "    def __init__(self, img_arr, label_arr, transform):\r\n",
    "        self.img_arr = img_arr\r\n",
    "        self.label_arr = label_arr\r\n",
    "        self.transform = transform\r\n",
    "\r\n",
    "    def __len__(self):\r\n",
    "        return len(self.label_arr)\r\n",
    "\r\n",
    "    def __getitem__(self, index):\r\n",
    "        if self.transform:            \r\n",
    "            tfmd_img = self.transform(self.img_arr[index])\r\n",
    "            # ToTensor transformation causes the RGB channel dimension to shift from index 2 to 0\r\n",
    "            # we interchange the dimensions at index 0 and 2 to move channel dim back to index 2\r\n",
    "        #return (tfmd_img.transpose(0,2), self.label_arr[index])\r\n",
    "        return (tfmd_img, self.label_arr[index])"
   ],
   "outputs": [],
   "metadata": {}
  },
  {
   "cell_type": "markdown",
   "source": [
    "Run the next cell to load the \"SIGNS\" dataset you are going to use."
   ],
   "metadata": {}
  },
  {
   "cell_type": "code",
   "execution_count": 3,
   "source": [
    "# Loading the data (signs)\r\n",
    "def get_imgs_labels(h5_file_path):\r\n",
    "    f = h5py.File(h5_file_path, \"r\")\r\n",
    "    ds_keys = [key for key in f.keys()]\r\n",
    "    imgs = np.array(f[ds_keys[1]])\r\n",
    "    labels = np.array(f[ds_keys[2]])\r\n",
    "    list_classes = np.array(f[ds_keys[0]])\r\n",
    "    return imgs, labels, list_classes\r\n",
    "\r\n",
    "train_x, train_y, train_classes = get_imgs_labels(\"./datasets/train_signs.h5\")\r\n",
    "test_x, test_y, test_classes = get_imgs_labels(\"./datasets/test_signs.h5\")\r\n",
    "print(train_x.shape)\r\n",
    "print(test_x.shape)"
   ],
   "outputs": [
    {
     "output_type": "stream",
     "name": "stdout",
     "text": [
      "(1080, 64, 64, 3)\n",
      "(120, 64, 64, 3)\n"
     ]
    }
   ],
   "metadata": {
    "collapsed": true
   }
  },
  {
   "cell_type": "code",
   "execution_count": 4,
   "source": [
    "# for a training and label data in form of numpy arrays, return a fold_index array whose elements\r\n",
    "# represent the fold index. The length of this fold_index array is same as length of input dataset\r\n",
    "# and the items for which fold_index array value == cv iteration count are to be used for validation \r\n",
    "# in the corresponding cross validation iteration with rest of the items ( for which fold_index \r\n",
    "# array value != cv iteration count ) being used for training (typical ration being 80:20)\r\n",
    "def get_skf_index(num_folds, X, y):\r\n",
    "    skf = StratifiedKFold(n_splits=num_folds, shuffle=True, random_state = 42)\r\n",
    "    train_fold_index = np.zeros(len(y))\r\n",
    "    for fold, (train_index, val_index) in enumerate(skf.split(X=X, y=y)):\r\n",
    "        train_fold_index[val_index] = [fold + 1] * len(val_index)\r\n",
    "    return train_fold_index\r\n",
    "\r\n",
    "k_folds = get_skf_index(num_folds=5, X=train_x, y=train_y)\r\n",
    "fold1 = train_y[k_folds == 1] "
   ],
   "outputs": [],
   "metadata": {}
  },
  {
   "cell_type": "markdown",
   "source": [
    "There are 1080 images of dimension 64 by 64 by 3 in train dataset"
   ],
   "metadata": {}
  },
  {
   "cell_type": "code",
   "execution_count": 5,
   "source": [
    "def get_imgs_mean_stddev(imgs, axis=None):    \r\n",
    "    \"\"\"Get the mean and standard deviation for images in a dataset / mini-batch\r\n",
    "    Args:\r\n",
    "        imgs ([2d or 3d numpy array]): images in collection (with no to_tensor transformation applied)\r\n",
    "        axis ([tuple of ints], optional): Axis along which mean and std dev is to be calculated.\r\n",
    "        Defaults to None.\r\n",
    "    Returns:\r\n",
    "        [tuple]: tuple of tensors with mean and std.dev. of the imgs\r\n",
    "    \"\"\"\r\n",
    "    to_tensor = transforms.ToTensor()\r\n",
    "    img_tensor_arr = [to_tensor(img) for img in train_x]\r\n",
    "    # stack will arrange the tensors one over the other with dim=0 being the new dimension that  \r\n",
    "    # stores the number of tensors stacked. This new dimension can be placed at any index\r\n",
    "    img_tensor_arr = torch.stack(img_tensor_arr)\r\n",
    "    if axis is not None:\r\n",
    "        return torch.mean(img_tensor_arr, axis=axis), torch.std(img_tensor_arr, axis=axis)\r\n",
    "    else:            \r\n",
    "        return torch.mean(img_tensor_arr, axis=(0, 2, 3)), torch.std(img_tensor_arr, axis=(0,2,3))\r\n",
    "    \r\n",
    "train_img_mean, train_img_std = get_imgs_mean_stddev(train_x)        \r\n",
    "print(train_img_mean, train_img_std)"
   ],
   "outputs": [
    {
     "output_type": "stream",
     "name": "stdout",
     "text": [
      "tensor([0.7630, 0.7105, 0.6634]) tensor([0.1538, 0.1998, 0.2221])\n"
     ]
    }
   ],
   "metadata": {}
  },
  {
   "cell_type": "code",
   "execution_count": 6,
   "source": [
    "img_transforms = transforms.Compose([transforms.ToTensor(), \r\n",
    "                                     transforms.Normalize(train_img_mean, train_img_std)])\r\n",
    "\r\n",
    "# Get the train and validation data loaders for a specific fold. \r\n",
    "# X: numpy array of input features\r\n",
    "# y: numpy array of target labels\r\n",
    "# fold: fold index for which to create data loaders                                     \r\n",
    "# kfolds: Array that marks each of the data items as belonging to a specific fold\r\n",
    "def get_fold_dls(fold, kfolds, X, y):                         \r\n",
    "    train_X = X[kfolds != fold]        \r\n",
    "    train_y = y[kfolds != fold]    \r\n",
    "    val_X = X[kfolds == fold]\r\n",
    "    val_y = y[kfolds == fold]\r\n",
    "    ds_train_signs = NpArrayImageDataset(train_X, train_y, transform=img_transforms)\r\n",
    "    ds_val_signs = NpArrayImageDataset(val_X, val_y, transform=img_transforms)\r\n",
    "    dl_train = DataLoader(ds_train_signs, batch_size=64, shuffle=True)\r\n",
    "    dl_val = DataLoader(ds_val_signs, batch_size=64, shuffle=True)\r\n",
    "    return dl_train, dl_val"
   ],
   "outputs": [],
   "metadata": {}
  },
  {
   "cell_type": "markdown",
   "source": [
    "As a reminder, the SIGNS dataset is a collection of 6 signs representing numbers from 0 to 5.\r\n",
    "\r\n",
    "<img src=\"../images/SIGNS.png\" style=\"width:800px;height:300px;\">\r\n",
    "\r\n",
    "The next cell will show you an example of a labelled image in the dataset. Feel free to change the value of `index` below and re-run to see different examples. "
   ],
   "metadata": {}
  },
  {
   "cell_type": "code",
   "execution_count": 7,
   "source": [
    "# display an untransformed image\r\n",
    "plt.imshow(train_x[0])\r\n",
    "print(f\"Image label = {train_y[0]}\")"
   ],
   "outputs": [
    {
     "output_type": "stream",
     "name": "stdout",
     "text": [
      "Image label = 5\n"
     ]
    },
    {
     "output_type": "display_data",
     "data": {
      "image/png": "[encoded data removed]",
      "text/plain": [
       "<Figure size 432x288 with 1 Axes>"
      ]
     },
     "metadata": {
      "needs_background": "light"
     }
    }
   ],
   "metadata": {}
  },
  {
   "cell_type": "code",
   "execution_count": 8,
   "source": [
    "# display the same image but this time transformed\r\n",
    "tfmd_img = img_transforms(train_x[0])\r\n",
    "show_image(tfmd_img)"
   ],
   "outputs": [
    {
     "output_type": "stream",
     "name": "stderr",
     "text": [
      "Clipping input data to the valid range for imshow with RGB data ([0..1] for floats or [0..255] for integers).\n"
     ]
    },
    {
     "output_type": "execute_result",
     "data": {
      "text/plain": [
       "<AxesSubplot:>"
      ]
     },
     "metadata": {},
     "execution_count": 8
    },
    {
     "output_type": "display_data",
     "data": {
      "image/png": "[encoded data removed]",
      "text/plain": [
       "<Figure size 144x144 with 1 Axes>"
      ]
     },
     "metadata": {
      "needs_background": "light"
     }
    }
   ],
   "metadata": {}
  },
  {
   "cell_type": "markdown",
   "source": [
    "## Build a convolution net. We are inspired by the classic LeNet architecture"
   ],
   "metadata": {}
  },
  {
   "cell_type": "code",
   "execution_count": 9,
   "source": [
    "class LeNet(nn.Module):\r\n",
    "    def __init__(self, input_ch, out_class_count):\r\n",
    "        super().__init__()\r\n",
    "        # no of channels in input image. Input image is of shape (64, 64, 3)\r\n",
    "        self.input_ch = input_ch\r\n",
    "        # no of unique output class labels\r\n",
    "        self.out_class_count = out_class_count\r\n",
    "        # The first convolution layer\r\n",
    "        self.conv1 = nn.Sequential(\r\n",
    "            # use 10 in place of 6 as the no of out channels in first convolution layer to increase\r\n",
    "            # network performance\r\n",
    "            nn.Conv2d(in_channels=input_ch, out_channels=10, kernel_size=5, stride=1),\r\n",
    "            nn.ReLU(),\r\n",
    "            nn.MaxPool2d(kernel_size=(2,2), stride=(2,2))\r\n",
    "        )\r\n",
    "        # output from first conv layer has shape (15, 15, 20)\r\n",
    "        # second convolution layer\r\n",
    "        self.conv2 = nn.Sequential(\r\n",
    "            # use 25 in place of 16 (as per original network architecture) as the \r\n",
    "            # no of out channels in 2nd convolution layer to increase network performance\r\n",
    "            nn.Conv2d(in_channels=10, out_channels=25, kernel_size=5, stride=1),\r\n",
    "            nn.ReLU(),\r\n",
    "            nn.MaxPool2d(kernel_size=(2,2), stride=(2,2))\r\n",
    "        )\r\n",
    "        # output from 2nd conv layer has dim (3, 3, 50). \r\n",
    "        self.conv3 = nn.Sequential(\r\n",
    "            # use 50 in place of 16 (as per original network architecture) as the \r\n",
    "            # no of out channels in 2nd convolution layer to increase network performance\r\n",
    "            nn.Conv2d(in_channels=25, out_channels=50, kernel_size=5, stride=1),\r\n",
    "            nn.ReLU(),\r\n",
    "            nn.MaxPool2d(kernel_size=(2,2), stride=(2,2))\r\n",
    "        )\r\n",
    "        # output from 3rd conv layer has shape (4, 4, 50)\r\n",
    "        self.fc1 = nn.Linear(in_features=800, out_features=200)\r\n",
    "        self.relu1 = nn.ReLU()\r\n",
    "        self.fc2 = nn.Linear(in_features=200, out_features=out_class_count)\r\n",
    "        self.logsoftmax = nn.LogSoftmax(dim=1)\r\n",
    "\r\n",
    "    def forward(self, x):\r\n",
    "        batch_size = x.shape[0]        \r\n",
    "        x = self.conv1(x)        \r\n",
    "        x = self.conv2(x)\r\n",
    "        x = self.conv3(x)        \r\n",
    "        # flatten the output from the last conv layer into 1d tensor        \r\n",
    "        x = x.view(batch_size, -1)        \r\n",
    "        x = self.fc1(x)        \r\n",
    "        x = self.relu1(x)\r\n",
    "        x = self.fc2(x)\r\n",
    "        output = self.logsoftmax(x)\r\n",
    "        return output"
   ],
   "outputs": [],
   "metadata": {}
  },
  {
   "cell_type": "code",
   "execution_count": 11,
   "source": [
    "# CONSTANTS \r\n",
    "NUM_FOLDS = 5\r\n",
    "NUM_EPOCHS = 10\r\n",
    "BATCH_SIZE = 128\r\n",
    "DEVICE = torch.device('cuda' if torch.cuda.is_available() else 'cpu')    \r\n",
    "\r\n",
    "model = LeNet(3, 6).to(DEVICE)"
   ],
   "outputs": [],
   "metadata": {}
  },
  {
   "cell_type": "code",
   "execution_count": 12,
   "source": [
    "def get_fold_dls(fold, kfolds, X, y):\r\n",
    "    train_X = X[kfolds != fold+1]\r\n",
    "    train_y = y[kfolds != fold+1]    \r\n",
    "    valid_X = X[kfolds == fold+1]\r\n",
    "    valid_y = y[kfolds == fold+1]\r\n",
    "    #print(len(train_X), len(train_y), len(valid_X), len(valid_y))\r\n",
    "    ds_train = NpArrayImageDataset(train_X, train_y, img_transforms)\r\n",
    "    ds_valid = NpArrayImageDataset(valid_X, valid_y, img_transforms)\r\n",
    "    dl_train = DataLoader(ds_train, batch_size=BATCH_SIZE, shuffle=True)\r\n",
    "    dl_valid = DataLoader(ds_valid, batch_size=BATCH_SIZE, shuffle=True)\r\n",
    "    return dl_train, dl_valid"
   ],
   "outputs": [],
   "metadata": {}
  },
  {
   "cell_type": "code",
   "execution_count": 13,
   "source": [
    "# instantiate the model\r\n",
    "# define the loss function, optimizer, hyperparameters and metrics to measure model performance\r\n",
    "from fastai.data.core import DataLoaders\r\n",
    "from fastai.optimizer import OptimWrapper\r\n",
    "from torch import optim \r\n",
    "from functools import partial\r\n",
    "from fastai.callback.schedule import Learner\r\n",
    "from fastai.metrics import accuracy\r\n",
    "import torch.nn.functional as F\r\n",
    "\r\n",
    "for fold in range(NUM_FOLDS):\r\n",
    "    dl_train, dl_valid = get_fold_dls(fold, k_folds, train_x, train_y)\r\n",
    "    dls = DataLoaders(dl_train, dl_valid)\r\n",
    "    opt_func = partial(OptimWrapper, opt=optim.Adam)\r\n",
    "    learn = Learner(dls, model, loss_func=F.nll_loss, opt_func=opt_func, metrics=accuracy)\r\n",
    "    #learn.summary()\r\n",
    "    print(f\"FOLD  {fold}\")\r\n",
    "    learn.fit_one_cycle(n_epoch=20, lr_max=1e-2, \r\n",
    "                        cbs=[ShowGraphCallback(), EarlyStoppingCallback(patience=5), CSVLogger()])\r\n",
    "    learn.save(f\"model_fold{fold}\", with_opt=False)    "
   ],
   "outputs": [
    {
     "output_type": "stream",
     "name": "stdout",
     "text": [
      "FOLD  0\n"
     ]
    },
    {
     "output_type": "display_data",
     "data": {
      "text/html": [
       "<table border=\"1\" class=\"dataframe\">\n",
       "  <thead>\n",
       "    <tr style=\"text-align: left;\">\n",
       "      <th>epoch</th>\n",
       "      <th>train_loss</th>\n",
       "      <th>valid_loss</th>\n",
       "      <th>accuracy</th>\n",
       "      <th>time</th>\n",
       "    </tr>\n",
       "  </thead>\n",
       "  <tbody>\n",
       "    <tr>\n",
       "      <td>0</td>\n",
       "      <td>1.751601</td>\n",
       "      <td>1.622027</td>\n",
       "      <td>0.435185</td>\n",
       "      <td>00:01</td>\n",
       "    </tr>\n",
       "    <tr>\n",
       "      <td>1</td>\n",
       "      <td>1.610711</td>\n",
       "      <td>1.259264</td>\n",
       "      <td>0.550926</td>\n",
       "      <td>00:01</td>\n",
       "    </tr>\n",
       "    <tr>\n",
       "      <td>2</td>\n",
       "      <td>1.521315</td>\n",
       "      <td>1.387319</td>\n",
       "      <td>0.509259</td>\n",
       "      <td>00:01</td>\n",
       "    </tr>\n",
       "    <tr>\n",
       "      <td>3</td>\n",
       "      <td>1.476555</td>\n",
       "      <td>1.512909</td>\n",
       "      <td>0.342593</td>\n",
       "      <td>00:01</td>\n",
       "    </tr>\n",
       "    <tr>\n",
       "      <td>4</td>\n",
       "      <td>1.399500</td>\n",
       "      <td>0.961350</td>\n",
       "      <td>0.685185</td>\n",
       "      <td>00:01</td>\n",
       "    </tr>\n",
       "    <tr>\n",
       "      <td>5</td>\n",
       "      <td>1.327068</td>\n",
       "      <td>0.912473</td>\n",
       "      <td>0.625000</td>\n",
       "      <td>00:01</td>\n",
       "    </tr>\n",
       "    <tr>\n",
       "      <td>6</td>\n",
       "      <td>1.240756</td>\n",
       "      <td>0.966864</td>\n",
       "      <td>0.634259</td>\n",
       "      <td>00:01</td>\n",
       "    </tr>\n",
       "    <tr>\n",
       "      <td>7</td>\n",
       "      <td>1.112677</td>\n",
       "      <td>0.885752</td>\n",
       "      <td>0.722222</td>\n",
       "      <td>00:01</td>\n",
       "    </tr>\n",
       "    <tr>\n",
       "      <td>8</td>\n",
       "      <td>0.981122</td>\n",
       "      <td>0.494277</td>\n",
       "      <td>0.833333</td>\n",
       "      <td>00:01</td>\n",
       "    </tr>\n",
       "    <tr>\n",
       "      <td>9</td>\n",
       "      <td>0.859294</td>\n",
       "      <td>0.396702</td>\n",
       "      <td>0.842593</td>\n",
       "      <td>00:01</td>\n",
       "    </tr>\n",
       "    <tr>\n",
       "      <td>10</td>\n",
       "      <td>0.745594</td>\n",
       "      <td>0.526138</td>\n",
       "      <td>0.824074</td>\n",
       "      <td>00:01</td>\n",
       "    </tr>\n",
       "    <tr>\n",
       "      <td>11</td>\n",
       "      <td>0.641602</td>\n",
       "      <td>0.404709</td>\n",
       "      <td>0.856481</td>\n",
       "      <td>00:01</td>\n",
       "    </tr>\n",
       "    <tr>\n",
       "      <td>12</td>\n",
       "      <td>0.548282</td>\n",
       "      <td>0.386823</td>\n",
       "      <td>0.898148</td>\n",
       "      <td>00:01</td>\n",
       "    </tr>\n",
       "    <tr>\n",
       "      <td>13</td>\n",
       "      <td>0.468908</td>\n",
       "      <td>0.474813</td>\n",
       "      <td>0.870370</td>\n",
       "      <td>00:01</td>\n",
       "    </tr>\n",
       "    <tr>\n",
       "      <td>14</td>\n",
       "      <td>0.400699</td>\n",
       "      <td>0.488501</td>\n",
       "      <td>0.865741</td>\n",
       "      <td>00:01</td>\n",
       "    </tr>\n",
       "    <tr>\n",
       "      <td>15</td>\n",
       "      <td>0.342648</td>\n",
       "      <td>0.479468</td>\n",
       "      <td>0.870370</td>\n",
       "      <td>00:01</td>\n",
       "    </tr>\n",
       "    <tr>\n",
       "      <td>16</td>\n",
       "      <td>0.293838</td>\n",
       "      <td>0.479945</td>\n",
       "      <td>0.879630</td>\n",
       "      <td>00:01</td>\n",
       "    </tr>\n",
       "    <tr>\n",
       "      <td>17</td>\n",
       "      <td>0.252424</td>\n",
       "      <td>0.471409</td>\n",
       "      <td>0.875000</td>\n",
       "      <td>00:01</td>\n",
       "    </tr>\n",
       "  </tbody>\n",
       "</table>"
      ],
      "text/plain": [
       "<IPython.core.display.HTML object>"
      ]
     },
     "metadata": {}
    },
    {
     "output_type": "display_data",
     "data": {
      "image/png": "[encoded data removed]",
      "text/plain": [
       "<Figure size 432x288 with 1 Axes>"
      ]
     },
     "metadata": {}
    },
    {
     "output_type": "stream",
     "name": "stdout",
     "text": [
      "No improvement since epoch 12: early stopping\n",
      "FOLD  1\n"
     ]
    },
    {
     "output_type": "display_data",
     "data": {
      "text/html": [
       "<table border=\"1\" class=\"dataframe\">\n",
       "  <thead>\n",
       "    <tr style=\"text-align: left;\">\n",
       "      <th>epoch</th>\n",
       "      <th>train_loss</th>\n",
       "      <th>valid_loss</th>\n",
       "      <th>accuracy</th>\n",
       "      <th>time</th>\n",
       "    </tr>\n",
       "  </thead>\n",
       "  <tbody>\n",
       "    <tr>\n",
       "      <td>0</td>\n",
       "      <td>0.120789</td>\n",
       "      <td>0.006234</td>\n",
       "      <td>1.000000</td>\n",
       "      <td>00:01</td>\n",
       "    </tr>\n",
       "    <tr>\n",
       "      <td>1</td>\n",
       "      <td>0.091101</td>\n",
       "      <td>0.075942</td>\n",
       "      <td>0.967593</td>\n",
       "      <td>00:01</td>\n",
       "    </tr>\n",
       "    <tr>\n",
       "      <td>2</td>\n",
       "      <td>0.080665</td>\n",
       "      <td>0.097705</td>\n",
       "      <td>0.953704</td>\n",
       "      <td>00:01</td>\n",
       "    </tr>\n",
       "    <tr>\n",
       "      <td>3</td>\n",
       "      <td>0.113764</td>\n",
       "      <td>0.422327</td>\n",
       "      <td>0.856481</td>\n",
       "      <td>00:01</td>\n",
       "    </tr>\n",
       "    <tr>\n",
       "      <td>4</td>\n",
       "      <td>0.146396</td>\n",
       "      <td>1.072028</td>\n",
       "      <td>0.703704</td>\n",
       "      <td>00:01</td>\n",
       "    </tr>\n",
       "    <tr>\n",
       "      <td>5</td>\n",
       "      <td>0.256829</td>\n",
       "      <td>0.387212</td>\n",
       "      <td>0.851852</td>\n",
       "      <td>00:01</td>\n",
       "    </tr>\n",
       "  </tbody>\n",
       "</table>"
      ],
      "text/plain": [
       "<IPython.core.display.HTML object>"
      ]
     },
     "metadata": {}
    },
    {
     "output_type": "display_data",
     "data": {
      "image/png": "[encoded data removed]",
      "text/plain": [
       "<Figure size 432x288 with 1 Axes>"
      ]
     },
     "metadata": {}
    },
    {
     "output_type": "stream",
     "name": "stdout",
     "text": [
      "No improvement since epoch 0: early stopping\n",
      "FOLD  2\n"
     ]
    },
    {
     "output_type": "display_data",
     "data": {
      "text/html": [
       "<table border=\"1\" class=\"dataframe\">\n",
       "  <thead>\n",
       "    <tr style=\"text-align: left;\">\n",
       "      <th>epoch</th>\n",
       "      <th>train_loss</th>\n",
       "      <th>valid_loss</th>\n",
       "      <th>accuracy</th>\n",
       "      <th>time</th>\n",
       "    </tr>\n",
       "  </thead>\n",
       "  <tbody>\n",
       "    <tr>\n",
       "      <td>0</td>\n",
       "      <td>0.226811</td>\n",
       "      <td>0.155084</td>\n",
       "      <td>0.930556</td>\n",
       "      <td>00:01</td>\n",
       "    </tr>\n",
       "    <tr>\n",
       "      <td>1</td>\n",
       "      <td>0.153068</td>\n",
       "      <td>0.069261</td>\n",
       "      <td>0.967593</td>\n",
       "      <td>00:01</td>\n",
       "    </tr>\n",
       "    <tr>\n",
       "      <td>2</td>\n",
       "      <td>0.108069</td>\n",
       "      <td>0.110428</td>\n",
       "      <td>0.967593</td>\n",
       "      <td>00:01</td>\n",
       "    </tr>\n",
       "    <tr>\n",
       "      <td>3</td>\n",
       "      <td>0.101824</td>\n",
       "      <td>0.159656</td>\n",
       "      <td>0.967593</td>\n",
       "      <td>00:01</td>\n",
       "    </tr>\n",
       "    <tr>\n",
       "      <td>4</td>\n",
       "      <td>0.157343</td>\n",
       "      <td>0.495020</td>\n",
       "      <td>0.879630</td>\n",
       "      <td>00:01</td>\n",
       "    </tr>\n",
       "    <tr>\n",
       "      <td>5</td>\n",
       "      <td>0.160706</td>\n",
       "      <td>0.177317</td>\n",
       "      <td>0.944444</td>\n",
       "      <td>00:01</td>\n",
       "    </tr>\n",
       "    <tr>\n",
       "      <td>6</td>\n",
       "      <td>0.143825</td>\n",
       "      <td>0.203181</td>\n",
       "      <td>0.921296</td>\n",
       "      <td>00:01</td>\n",
       "    </tr>\n",
       "  </tbody>\n",
       "</table>"
      ],
      "text/plain": [
       "<IPython.core.display.HTML object>"
      ]
     },
     "metadata": {}
    },
    {
     "output_type": "display_data",
     "data": {
      "image/png": "[encoded data removed]",
      "text/plain": [
       "<Figure size 432x288 with 1 Axes>"
      ]
     },
     "metadata": {}
    },
    {
     "output_type": "stream",
     "name": "stdout",
     "text": [
      "No improvement since epoch 1: early stopping\n",
      "FOLD  3\n"
     ]
    },
    {
     "output_type": "display_data",
     "data": {
      "text/html": [
       "<table border=\"1\" class=\"dataframe\">\n",
       "  <thead>\n",
       "    <tr style=\"text-align: left;\">\n",
       "      <th>epoch</th>\n",
       "      <th>train_loss</th>\n",
       "      <th>valid_loss</th>\n",
       "      <th>accuracy</th>\n",
       "      <th>time</th>\n",
       "    </tr>\n",
       "  </thead>\n",
       "  <tbody>\n",
       "    <tr>\n",
       "      <td>0</td>\n",
       "      <td>0.058415</td>\n",
       "      <td>0.003689</td>\n",
       "      <td>1.000000</td>\n",
       "      <td>00:01</td>\n",
       "    </tr>\n",
       "    <tr>\n",
       "      <td>1</td>\n",
       "      <td>0.034462</td>\n",
       "      <td>0.005147</td>\n",
       "      <td>0.995370</td>\n",
       "      <td>00:01</td>\n",
       "    </tr>\n",
       "    <tr>\n",
       "      <td>2</td>\n",
       "      <td>0.025122</td>\n",
       "      <td>0.016292</td>\n",
       "      <td>0.995370</td>\n",
       "      <td>00:01</td>\n",
       "    </tr>\n",
       "    <tr>\n",
       "      <td>3</td>\n",
       "      <td>0.027631</td>\n",
       "      <td>0.093003</td>\n",
       "      <td>0.986111</td>\n",
       "      <td>00:01</td>\n",
       "    </tr>\n",
       "    <tr>\n",
       "      <td>4</td>\n",
       "      <td>0.056784</td>\n",
       "      <td>0.453820</td>\n",
       "      <td>0.907407</td>\n",
       "      <td>00:01</td>\n",
       "    </tr>\n",
       "    <tr>\n",
       "      <td>5</td>\n",
       "      <td>0.114570</td>\n",
       "      <td>0.611749</td>\n",
       "      <td>0.851852</td>\n",
       "      <td>00:01</td>\n",
       "    </tr>\n",
       "  </tbody>\n",
       "</table>"
      ],
      "text/plain": [
       "<IPython.core.display.HTML object>"
      ]
     },
     "metadata": {}
    },
    {
     "output_type": "display_data",
     "data": {
      "image/png": "[encoded data removed]",
      "text/plain": [
       "<Figure size 432x288 with 1 Axes>"
      ]
     },
     "metadata": {}
    },
    {
     "output_type": "stream",
     "name": "stdout",
     "text": [
      "No improvement since epoch 0: early stopping\n",
      "FOLD  4\n"
     ]
    },
    {
     "output_type": "display_data",
     "data": {
      "text/html": [
       "<table border=\"1\" class=\"dataframe\">\n",
       "  <thead>\n",
       "    <tr style=\"text-align: left;\">\n",
       "      <th>epoch</th>\n",
       "      <th>train_loss</th>\n",
       "      <th>valid_loss</th>\n",
       "      <th>accuracy</th>\n",
       "      <th>time</th>\n",
       "    </tr>\n",
       "  </thead>\n",
       "  <tbody>\n",
       "    <tr>\n",
       "      <td>0</td>\n",
       "      <td>0.214866</td>\n",
       "      <td>0.041519</td>\n",
       "      <td>0.986111</td>\n",
       "      <td>00:01</td>\n",
       "    </tr>\n",
       "    <tr>\n",
       "      <td>1</td>\n",
       "      <td>0.117601</td>\n",
       "      <td>0.022549</td>\n",
       "      <td>0.995370</td>\n",
       "      <td>00:01</td>\n",
       "    </tr>\n",
       "    <tr>\n",
       "      <td>2</td>\n",
       "      <td>0.081926</td>\n",
       "      <td>0.006600</td>\n",
       "      <td>1.000000</td>\n",
       "      <td>00:01</td>\n",
       "    </tr>\n",
       "    <tr>\n",
       "      <td>3</td>\n",
       "      <td>0.058292</td>\n",
       "      <td>0.007264</td>\n",
       "      <td>0.995370</td>\n",
       "      <td>00:01</td>\n",
       "    </tr>\n",
       "    <tr>\n",
       "      <td>4</td>\n",
       "      <td>0.053366</td>\n",
       "      <td>0.036718</td>\n",
       "      <td>0.986111</td>\n",
       "      <td>00:01</td>\n",
       "    </tr>\n",
       "    <tr>\n",
       "      <td>5</td>\n",
       "      <td>0.071924</td>\n",
       "      <td>0.262259</td>\n",
       "      <td>0.939815</td>\n",
       "      <td>00:01</td>\n",
       "    </tr>\n",
       "    <tr>\n",
       "      <td>6</td>\n",
       "      <td>0.091112</td>\n",
       "      <td>0.068593</td>\n",
       "      <td>0.953704</td>\n",
       "      <td>00:01</td>\n",
       "    </tr>\n",
       "    <tr>\n",
       "      <td>7</td>\n",
       "      <td>0.088396</td>\n",
       "      <td>0.301290</td>\n",
       "      <td>0.939815</td>\n",
       "      <td>00:01</td>\n",
       "    </tr>\n",
       "  </tbody>\n",
       "</table>"
      ],
      "text/plain": [
       "<IPython.core.display.HTML object>"
      ]
     },
     "metadata": {}
    },
    {
     "output_type": "display_data",
     "data": {
      "image/png": "[encoded data removed]",
      "text/plain": [
       "<Figure size 432x288 with 1 Axes>"
      ]
     },
     "metadata": {}
    },
    {
     "output_type": "stream",
     "name": "stdout",
     "text": [
      "No improvement since epoch 2: early stopping\n"
     ]
    }
   ],
   "metadata": {
    "collapsed": true
   }
  },
  {
   "cell_type": "markdown",
   "source": [
    "## How model ensembles are almost always better than a single model"
   ],
   "metadata": {}
  },
  {
   "cell_type": "code",
   "execution_count": 28,
   "source": [
    "def voting_ensemble_prediction(models, input_img):\r\n",
    "    preds = torch.zeros(6)\r\n",
    "    for model in models:\r\n",
    "        pred = int(torch.argmax(model(input_img)))\r\n",
    "        preds[pred] += 1\r\n",
    "    return int(torch.argmax(preds))     \r\n",
    "\r\n",
    "def predict_label(models, input_img, best_model_index=None):\r\n",
    "    if best_model_index == None:\r\n",
    "        return voting_ensemble_prediction(models, input_img)\r\n",
    "    else:\r\n",
    "        return int(torch.argmax(models[best_model_index](input_img)))       "
   ],
   "outputs": [],
   "metadata": {}
  },
  {
   "cell_type": "code",
   "execution_count": 29,
   "source": [
    "# perform inference on test set using the voting ensemble of models created in each of the CV folds\r\n",
    "models = []\r\n",
    "for fold in range(NUM_FOLDS):\r\n",
    "    model = LeNet(3, 6)\r\n",
    "    model_state_dict = torch.load(f\"./models/model_fold{fold}.pth\")\r\n",
    "    model.load_state_dict(model_state_dict)\r\n",
    "    models.append(model)\r\n",
    "\r\n",
    "def run_test_predictions(models, best_model_index=None):\r\n",
    "    ds_test_signs = NpArrayImageDataset(test_x, test_y, transform=img_transforms)\r\n",
    "    incorrect_preds = []\r\n",
    "    for img, label in ds_test_signs:    \r\n",
    "        with torch.no_grad():            \r\n",
    "            img = img.unsqueeze(0)\r\n",
    "            pred_label = predict_label(models, img, best_model_index)\r\n",
    "            actual_label = int(label)        \r\n",
    "            if actual_label != pred_label: incorrect_preds.append((actual_label, pred_label))        \r\n",
    "    accuracy = (len(ds_test_signs) - len(incorrect_preds)) / len(ds_test_signs)       \r\n",
    "    print(f\"Test accuracy = {accuracy * 100}%\")\r\n",
    "    print(f\"Incorrect predictions = {len(incorrect_preds)} \")\r\n",
    "    for item in incorrect_preds:\r\n",
    "        print(f\"Actual label = {item[0]}, Predicted label = {item[1]}\")\r\n",
    "\r\n",
    "run_test_predictions(models)        "
   ],
   "outputs": [
    {
     "output_type": "stream",
     "name": "stdout",
     "text": [
      "Test accuracy = 95.0%\n",
      "Incorrect predictions = 6 \n",
      "Actual label = 2, Predicted label = 1\n",
      "Actual label = 4, Predicted label = 3\n",
      "Actual label = 2, Predicted label = 1\n",
      "Actual label = 4, Predicted label = 5\n",
      "Actual label = 5, Predicted label = 4\n",
      "Actual label = 5, Predicted label = 4\n"
     ]
    }
   ],
   "metadata": {}
  },
  {
   "cell_type": "code",
   "execution_count": 31,
   "source": [
    "# Now try a single model with the minimum validation loss in cross validation\r\n",
    "run_test_predictions(models, 2)"
   ],
   "outputs": [
    {
     "output_type": "stream",
     "name": "stdout",
     "text": [
      "Test accuracy = 93.33333333333333%\n",
      "Incorrect predictions = 8 \n",
      "Actual label = 1, Predicted label = 0\n",
      "Actual label = 2, Predicted label = 1\n",
      "Actual label = 4, Predicted label = 0\n",
      "Actual label = 2, Predicted label = 1\n",
      "Actual label = 4, Predicted label = 0\n",
      "Actual label = 5, Predicted label = 4\n",
      "Actual label = 2, Predicted label = 4\n",
      "Actual label = 1, Predicted label = 2\n"
     ]
    }
   ],
   "metadata": {}
  }
 ],
 "metadata": {
  "coursera": {
   "course_slug": "convolutional-neural-networks",
   "graded_item_id": "bwbJV",
   "launcher_item_id": "0TkXB"
  },
  "kernelspec": {
   "name": "python3",
   "display_name": "Python 3.8.5 64-bit ('fastai': conda)"
  },
  "language_info": {
   "codemirror_mode": {
    "name": "ipython",
    "version": 3
   },
   "file_extension": ".py",
   "mimetype": "text/x-python",
   "name": "python",
   "nbconvert_exporter": "python",
   "pygments_lexer": "ipython3",
   "version": "3.8.5"
  },
  "interpreter": {
   "hash": "2ff06204c0662b9359ef4233b0e8cfcc016e07736dbe455d1edaa8487878aae2"
  }
 },
 "nbformat": 4,
 "nbformat_minor": 1
}