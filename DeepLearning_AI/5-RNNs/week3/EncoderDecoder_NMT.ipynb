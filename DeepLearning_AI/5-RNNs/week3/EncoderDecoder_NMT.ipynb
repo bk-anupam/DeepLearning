{
 "cells": [
  {
   "cell_type": "code",
   "execution_count": 2059,
   "metadata": {},
   "outputs": [],
   "source": [
    "import torch\n",
    "import numpy as np\n",
    "import pandas as pd\n",
    "from faker import Faker\n",
    "import random\n",
    "import babel\n",
    "from babel.dates import format_date\n",
    "import tqdm\n",
    "from torch.utils.data import Dataset, DataLoader\n",
    "import torch.nn as nn\n",
    "from torch.nn.utils.rnn import pack_padded_sequence, pad_packed_sequence, pad_sequence\n",
    "from sklearn import model_selection\n",
    "import pytorch_lightning as pl\n",
    "from torch.nn import functional as F\n",
    "from torch.nn.functional import cross_entropy\n",
    "from torch.nn import CrossEntropyLoss\n",
    "from torchmetrics.functional import accuracy\n",
    "from torchvision import transforms\n",
    "from pytorch_lightning.callbacks import ModelCheckpoint"
   ]
  },
  {
   "cell_type": "code",
   "execution_count": 2060,
   "metadata": {},
   "outputs": [],
   "source": [
    "fake = Faker()\n",
    "Faker.seed(12345)\n",
    "random.seed(12345)\n",
    "\n",
    "# Define format of the data we would like to generate\n",
    "FORMATS = ['short',\n",
    "           'medium',\n",
    "           'long',\n",
    "           'full',\n",
    "           'full',\n",
    "           'full',\n",
    "           'full',\n",
    "           'full',\n",
    "           'full',\n",
    "           'full',\n",
    "           'full',\n",
    "           'full',\n",
    "           'full',\n",
    "           'd MMM YYY', \n",
    "           'd MMMM YYY',\n",
    "           'dd MMM YYY',\n",
    "           'd MMM, YYY',\n",
    "           'd MMMM, YYY',\n",
    "           'dd, MMM YYY',\n",
    "           'd MM YY',\n",
    "           'd MMMM YYY',\n",
    "           'MMMM d YYY',\n",
    "           'MMMM d, YYY',\n",
    "           'dd.MM.YY']\n",
    "\n",
    "# change this if you want it to work with another language\n",
    "LOCALES = ['en_US']"
   ]
  },
  {
   "cell_type": "code",
   "execution_count": 2061,
   "metadata": {},
   "outputs": [],
   "source": [
    "device = torch.device('cuda' if torch.cuda.is_available() else 'cpu')\n",
    "\n",
    "class Config:\n",
    "    RANDOM_STATE_SEED = 42\n",
    "    Tx_max = 30\n",
    "    Ty_max = 11\n",
    "    BATCH_SIZE = 128\n",
    "    NUM_WORKERS = 8\n",
    "    NUM_EPOCHS = 25\n",
    "    PRECISION = 16\n",
    "    NUM_FOLDS = 5\n",
    "    FAST_DEV_RUN = True\n",
    "    DEVICE = device"
   ]
  },
  {
   "cell_type": "code",
   "execution_count": 2062,
   "metadata": {},
   "outputs": [],
   "source": [
    "def generate_date_data():\n",
    "    dt = fake.date_object()\n",
    "    human_readable_dt = None\n",
    "    machine_readable_dt = None\n",
    "    try:\n",
    "        human_readable_dt = format_date(dt, random.choice(FORMATS), \"en_US\")\n",
    "        human_readable_dt = human_readable_dt.replace(\",\", \"\")\n",
    "        machine_readable_dt = dt.isoformat()\n",
    "    except AttributeError as e:\n",
    "        return None, None, None\n",
    "    return human_readable_dt, machine_readable_dt, dt"
   ]
  },
  {
   "cell_type": "code",
   "execution_count": 2063,
   "metadata": {},
   "outputs": [],
   "source": [
    "def load_date_dataset(num_examples=100):    \n",
    "    dataset = []\n",
    "    for row in range(num_examples):\n",
    "        h_dt, m_dt, dt = generate_date_data()        \n",
    "        dataset.append([h_dt, m_dt])    \n",
    "    return np.array(dataset)"
   ]
  },
  {
   "cell_type": "code",
   "execution_count": 2064,
   "metadata": {},
   "outputs": [],
   "source": [
    "# the vocab for both source and target sequences needs to be generated from training data only\n",
    "# to prevent data leakage into the validation sets leading to inflated model accuracy in validation phase\n",
    "def get_source_target_vocab(human_dates, machine_dates):\n",
    "    human_dt_vocab = set()\n",
    "    machine_dt_vocab = set()\n",
    "    for (h_dt, m_dt) in zip(human_dates, machine_dates):\n",
    "        human_dt_vocab.update(tuple(h_dt))\n",
    "        machine_dt_vocab.update(tuple(m_dt))\n",
    "    human_dt_vocab = {value: index for index, value in enumerate(sorted(human_dt_vocab) + ['<unk>', '<pad>', '<sos>', '<eos>'])}\n",
    "    machine_dt_vocab = {value: index for index, value in enumerate(sorted(machine_dt_vocab) + ['<sos>'])}\n",
    "    inv_machine_dt_vocab = dict(enumerate(sorted(machine_dt_vocab)))       \n",
    "    return human_dt_vocab, machine_dt_vocab, inv_machine_dt_vocab "
   ]
  },
  {
   "cell_type": "code",
   "execution_count": 2065,
   "metadata": {},
   "outputs": [],
   "source": [
    "def stoi(str, length, vocab, add_sos_token=False):\n",
    "    \"\"\"\n",
    "    Converts all strings in the vocabulary into a list of integers representing the positions of the\n",
    "    input string's characters in the \"vocab\"\n",
    "    \n",
    "    Arguments:\n",
    "    string -- input string, e.g. 'Wed 10 Jul 2007'\n",
    "    length -- the number of time steps you'd like, determines if the output will be padded or cut\n",
    "    vocab -- vocabulary, dictionary used to index every character of your \"string\"\n",
    "    \n",
    "    Returns:\n",
    "    rep -- list of integers (or '<unk>') (size = length) representing the position of the string's character in the vocabulary\n",
    "    \"\"\"\n",
    "    str = str.lower()\n",
    "    str = str.replace(\",\", \"\")\n",
    "    if len(str) > length:\n",
    "        str = str[:length]\n",
    "    unk_index = vocab.get(\"<unk>\")            \n",
    "    char_indexes = [vocab.get(char, unk_index) for char in str]\n",
    "    if add_sos_token:\n",
    "        sos_index = vocab.get(\"<sos>\")        \n",
    "        # We add index corresponding to <sos> token to the start of target date sequence\n",
    "        char_indexes.insert(0, sos_index)\n",
    "    return np.array(char_indexes)"
   ]
  },
  {
   "cell_type": "code",
   "execution_count": 2066,
   "metadata": {},
   "outputs": [],
   "source": [
    "# split the training dataframe into kfolds for cross validation. We do this before any processing is done\n",
    "# on the data. We use stratified kfold if the target distribution is unbalanced\n",
    "def strat_kfold_dataframe(df, target_col_name, num_folds=5):\n",
    "    # we create a new column called kfold and fill it with -1\n",
    "    df[\"kfold\"] = -1\n",
    "    # randomize of shuffle the rows of dataframe before splitting is done\n",
    "    df = df.sample(frac=1, random_state=Config.RANDOM_STATE_SEED).reset_index(drop=True)\n",
    "    # get the target data\n",
    "    y = df[target_col_name].values\n",
    "    skf = model_selection.StratifiedKFold(n_splits=num_folds, shuffle=True, random_state=Config.RANDOM_STATE_SEED)\n",
    "    for fold, (train_index, val_index) in enumerate(skf.split(X=df, y=y)):\n",
    "        df.loc[val_index, \"kfold\"] = fold\n",
    "    return df        "
   ]
  },
  {
   "cell_type": "code",
   "execution_count": 2067,
   "metadata": {},
   "outputs": [
    {
     "name": "stderr",
     "output_type": "stream",
     "text": [
      "/home/bk_anupam/anaconda3/envs/fastai/lib/python3.9/site-packages/sklearn/model_selection/_split.py:676: UserWarning: The least populated class in y has only 1 members, which is less than n_splits=5.\n",
      "  warnings.warn(\n"
     ]
    },
    {
     "data": {
      "text/html": [
       "<div>\n",
       "<style scoped>\n",
       "    .dataframe tbody tr th:only-of-type {\n",
       "        vertical-align: middle;\n",
       "    }\n",
       "\n",
       "    .dataframe tbody tr th {\n",
       "        vertical-align: top;\n",
       "    }\n",
       "\n",
       "    .dataframe thead th {\n",
       "        text-align: right;\n",
       "    }\n",
       "</style>\n",
       "<table border=\"1\" class=\"dataframe\">\n",
       "  <thead>\n",
       "    <tr style=\"text-align: right;\">\n",
       "      <th></th>\n",
       "      <th>h_dt</th>\n",
       "      <th>m_dt</th>\n",
       "      <th>kfold</th>\n",
       "    </tr>\n",
       "  </thead>\n",
       "  <tbody>\n",
       "    <tr>\n",
       "      <th>0</th>\n",
       "      <td>February 3 1993</td>\n",
       "      <td>1993-02-03</td>\n",
       "      <td>0</td>\n",
       "    </tr>\n",
       "    <tr>\n",
       "      <th>1</th>\n",
       "      <td>Friday September 22 1995</td>\n",
       "      <td>1995-09-22</td>\n",
       "      <td>2</td>\n",
       "    </tr>\n",
       "    <tr>\n",
       "      <th>2</th>\n",
       "      <td>Saturday May 29 1999</td>\n",
       "      <td>1999-05-29</td>\n",
       "      <td>3</td>\n",
       "    </tr>\n",
       "    <tr>\n",
       "      <th>3</th>\n",
       "      <td>Thursday October 16 2008</td>\n",
       "      <td>2008-10-16</td>\n",
       "      <td>1</td>\n",
       "    </tr>\n",
       "    <tr>\n",
       "      <th>4</th>\n",
       "      <td>6/15/02</td>\n",
       "      <td>2002-06-15</td>\n",
       "      <td>2</td>\n",
       "    </tr>\n",
       "  </tbody>\n",
       "</table>\n",
       "</div>"
      ],
      "text/plain": [
       "                       h_dt        m_dt  kfold\n",
       "0           February 3 1993  1993-02-03      0\n",
       "1  Friday September 22 1995  1995-09-22      2\n",
       "2      Saturday May 29 1999  1999-05-29      3\n",
       "3  Thursday October 16 2008  2008-10-16      1\n",
       "4                   6/15/02  2002-06-15      2"
      ]
     },
     "execution_count": 2067,
     "metadata": {},
     "output_type": "execute_result"
    }
   ],
   "source": [
    "dataset = load_date_dataset(10000)\n",
    "# Let us create a dates dataframe that will contain training data of human readable and machine\n",
    "# readable dates\n",
    "df_dates = pd.DataFrame({\"h_dt\": dataset[:, 0], \"m_dt\": dataset[:, 1]})\n",
    "df_dates = strat_kfold_dataframe(df_dates, target_col_name=\"m_dt\", num_folds=5)  \n",
    "df_dates.head()"
   ]
  },
  {
   "cell_type": "code",
   "execution_count": 2068,
   "metadata": {},
   "outputs": [],
   "source": [
    "# h_vocab, m_vocab, inv_m_vocab = get_source_target_vocab(df_dates.h_dt, df_dates.m_dt)\n",
    "# h_vocab"
   ]
  },
  {
   "cell_type": "code",
   "execution_count": 2069,
   "metadata": {},
   "outputs": [],
   "source": [
    "# dt = stoi(df_dates.h_dt[0], 30, h_vocab)\n",
    "# torch.from_numpy(dt)"
   ]
  },
  {
   "cell_type": "code",
   "execution_count": 2070,
   "metadata": {},
   "outputs": [],
   "source": [
    "# # Converts a vectorized date ( which is a tensor of ints where each int is the \n",
    "# # position of the corresponding char in the relevant vocab ) to one hot encoded form\n",
    "# class OneHotTransform(object):\n",
    "#     def __init__(self, vocab, max_seq_length):\n",
    "#         self.vocab = vocab\n",
    "#         self.max_seq_length = max_seq_length\n",
    "\n",
    "#     def __call__(self, X):\n",
    "#         pad_index = self.vocab[\"<pad>\"]\n",
    "#         pad_sequence()\n",
    "#         return F.one_hot(X.T.long(), len(self.vocab))"
   ]
  },
  {
   "cell_type": "code",
   "execution_count": 2071,
   "metadata": {},
   "outputs": [],
   "source": [
    "# converts a string (sequence of chars) to a tensor of ints where each int is the \n",
    "# position of the corresponding char in the relevant vocab\n",
    "class StoITensorTransform(object):\n",
    "    def __init__(self, vocab, max_seq_length, add_sos_token=False):\n",
    "        self.vocab = vocab\n",
    "        self.max_seq_length = max_seq_length\n",
    "        self.add_sos_token = add_sos_token\n",
    "\n",
    "    def __call__(self, X):\n",
    "        vectorized_str = stoi(X, self.max_seq_length, self.vocab, self.add_sos_token)\n",
    "        #print(vectorized_str)\n",
    "        return torch.from_numpy(vectorized_str)"
   ]
  },
  {
   "cell_type": "code",
   "execution_count": 2072,
   "metadata": {},
   "outputs": [],
   "source": [
    "# batch is the return value of __getitem__ method of the dataset being used. For DateDataset it is h_dt, m_dt\n",
    "def pad_collate(batch):\n",
    "    # we want to pad the h_dt sequences as these can be of variable length.\n",
    "    # h_dt is of shape len(h_dt)\n",
    "    sorted_batch = sorted(batch, key=lambda x:x[0].shape[0], reverse=True)\n",
    "    h_dt_sorted = [x[0] for x in sorted_batch]\n",
    "    h_dt_padded = pad_sequence(h_dt_sorted, batch_first = True, padding_value=0)\n",
    "    # the original length of the padded h_dt sequences\n",
    "    h_dt_len = torch.Tensor([len(x) for x in h_dt_sorted])\n",
    "    # unpadded m_dt sequences    \n",
    "    m_dt = torch.stack([x[1] for x in sorted_batch])        \n",
    "    return h_dt_padded, h_dt_len, m_dt"
   ]
  },
  {
   "cell_type": "code",
   "execution_count": 2073,
   "metadata": {},
   "outputs": [],
   "source": [
    "class DateDataset(Dataset):\n",
    "    def __init__(self, human_fmt_dates, machine_fmt_dates, transform, target_transform):\n",
    "        super().__init__()\n",
    "        self.h_dts = human_fmt_dates\n",
    "        self.m_dts = machine_fmt_dates\n",
    "        self.transform = transform\n",
    "        self.target_transform = target_transform        \n",
    "\n",
    "    # Returns vectorized form of human format date and its corresponding machine format date\n",
    "    # with elements of the vectorized date being the index of the characters in the corresponding date vocab\n",
    "    def __getitem__(self, index):\n",
    "        h_dt = self.h_dts[index]\n",
    "        m_dt = self.m_dts[index]\n",
    "        if self.transform:\n",
    "            h_dt = self.transform(h_dt)\n",
    "        if self.target_transform:\n",
    "            m_dt = self.target_transform(m_dt)\n",
    "        return h_dt, m_dt\n",
    "\n",
    "    def __len__(self):                \n",
    "        return len(self.h_dts)"
   ]
  },
  {
   "cell_type": "code",
   "execution_count": 2074,
   "metadata": {},
   "outputs": [],
   "source": [
    "# Get the train and validation data loaders for a specific fold. \n",
    "# X: numpy array of input features\n",
    "# y: numpy array of target labels\n",
    "# fold: fold index for which to create data loaders                                     \n",
    "# kfolds: Array that marks each of the data items as belonging to a specific fold\n",
    "def get_fold_dls(fold, df):\n",
    "    fold += 1                         \n",
    "    train_df = df[df.kfold != fold].reset_index(drop=True)\n",
    "    val_df = df[df.kfold == fold].reset_index(drop=True)\n",
    "    h_dt_max_len = train_df.h_dt.apply(lambda x: len(x)).max()\n",
    "    h_vocab, m_vocab, inv_m_vocab = get_source_target_vocab(train_df.h_dt, train_df.m_dt)    \n",
    "    # transform to convert human_date and machine_date to one hot encoded forms\n",
    "    transform = StoITensorTransform(h_vocab, h_dt_max_len)\n",
    "    target_transform = StoITensorTransform(m_vocab, len(m_vocab), add_sos_token=True)\n",
    "    ds_train = DateDataset(train_df.h_dt, train_df.m_dt, transform=transform, target_transform=target_transform)\n",
    "    ds_val = DateDataset(val_df.h_dt, val_df.m_dt, transform=transform, target_transform=target_transform)\n",
    "    dl_train = DataLoader(ds_train, batch_size=Config.BATCH_SIZE, shuffle=True, \n",
    "                        num_workers=Config.NUM_WORKERS, collate_fn=pad_collate)\n",
    "    dl_val = DataLoader(ds_val, batch_size=Config.BATCH_SIZE, num_workers=Config.NUM_WORKERS, \n",
    "                        collate_fn=pad_collate)\n",
    "    return dl_train, dl_val, ds_train, ds_val, h_vocab, m_vocab"
   ]
  },
  {
   "cell_type": "code",
   "execution_count": 2075,
   "metadata": {},
   "outputs": [],
   "source": [
    "dl_train, dl_val, ds_train, ds_val, h_vocab, m_vocab = get_fold_dls(0, df_dates)"
   ]
  },
  {
   "cell_type": "code",
   "execution_count": 2076,
   "metadata": {},
   "outputs": [
    {
     "data": {
      "text/plain": [
       "tensor([11,  2, 10, 10, 10,  0,  1,  6,  0,  3, 10])"
      ]
     },
     "execution_count": 2076,
     "metadata": {},
     "output_type": "execute_result"
    }
   ],
   "source": [
    "ds_train[2][1]"
   ]
  },
  {
   "cell_type": "code",
   "execution_count": 2077,
   "metadata": {},
   "outputs": [],
   "source": [
    "# test_tensor = ds_train[2][1]\n",
    "# test_tensor = test_tensor.reshape(len(test_tensor), 1)\n",
    "# print(test_tensor.shape)\n",
    "# m_vocab_size = len(m_vocab)\n",
    "# zeros_tensor = torch.zeros(len(test_tensor), m_vocab_size)\n",
    "# print(zeros_tensor.shape)\n",
    "# src_tensor = torch.ones((len(test_tensor), 1))\n",
    "# print(src_tensor.shape)\n",
    "# m_dt_oh = zeros_tensor.scatter_(1, test_tensor, 1)\n",
    "# print(test_tensor)\n",
    "# print(m_dt_oh)"
   ]
  },
  {
   "cell_type": "code",
   "execution_count": 2078,
   "metadata": {},
   "outputs": [],
   "source": [
    "# https://discuss.pytorch.org/t/what-does-the-scatter-function-do-in-layman-terms/28037/3\n",
    "def one_hot_encode(input, vocab_size):        \n",
    "    #print(f\"input.shape = {input.shape}, vocab_size = {vocab_size}\")\n",
    "    batch_size = input.shape[0]\n",
    "    seq_length = input.shape[1]\n",
    "    input = input.reshape(batch_size, seq_length, 1)    \n",
    "    zeros_tensor = torch.zeros(batch_size, seq_length, vocab_size).to(Config.DEVICE)    \n",
    "    return zeros_tensor.scatter_(2, input, 1)"
   ]
  },
  {
   "cell_type": "code",
   "execution_count": 2079,
   "metadata": {},
   "outputs": [],
   "source": [
    "# dl_train_iter = iter(dl_train)\n",
    "# h_dt, h_dt_len, m_dt = next(dl_train_iter)\n",
    "# test = one_hot_encode(m_dt, len(m_vocab))\n",
    "# test.shape\n"
   ]
  },
  {
   "cell_type": "code",
   "execution_count": 2080,
   "metadata": {},
   "outputs": [],
   "source": [
    "class lstm_encoder(nn.Module):\n",
    "    def __init__(self, input_size, hidden_size, num_layers, drop_out, is_bidirect=False):\n",
    "        super().__init__()\n",
    "        # input to lstm is a sequence (of words, of chars, of anything else). The dimensions being \n",
    "        # (batch_size, sequence_length, input_size) if batch_first = True with sequence_length = length of longest sequence in the batch\n",
    "        # where input_size = number of features(cols) in input X. If you use embedding layer, then each word in the\n",
    "        # the sequence is represented by an embedding vector, so input_size = size of the embedding vector. If one\n",
    "        # hot encoding representation is used then input_size = vocab_size with each word represented by a one hot\n",
    "        # vector with size = vocab_size        \n",
    "        self.input_size = input_size\n",
    "        # hidden_size = number of units in the hidden layer\n",
    "        self.hidden_size = hidden_size\n",
    "        self.num_layers = num_layers\n",
    "        self.is_bidirect = is_bidirect\n",
    "        self.num_directions = 2 if is_bidirect else 1\n",
    "        self.lstm_layer = nn.LSTM(\n",
    "            input_size = input_size, \n",
    "            hidden_size = hidden_size,\n",
    "            num_layers = num_layers,\n",
    "            batch_first = True,\n",
    "            dropout = drop_out,\n",
    "            bidirectional = is_bidirect\n",
    "            )                \n",
    "\n",
    "    def forward(self, inputs, input_lengths):       \n",
    "        # inputs = [batch_size, max_seq_length] \n",
    "        # we are going to use one hot encoding representation of the human dates data. The input data is\n",
    "        # vectorized form of human format date with elements of the vectorized date being the index of the \n",
    "        # characters in the corresponding date vocab (input_size = vocab_size)\n",
    "        # inputs_oh = F.one_hot(inputs.T.float(), self.input_size)\n",
    "        #print(f\"inputs.shape = {inputs.shape}\")\n",
    "        inputs_oh = one_hot_encode(inputs, self.input_size)\n",
    "        #print(f\"inputs_oh.shape = {inputs_oh.shape}\")\n",
    "        # inputs_oh = [batch_size, max_seq_length, vocab_size]\n",
    "        # pack_padded_sequence before feeding into LSTM. This is required so pytorch knows\n",
    "        # which elements of the sequence are padded ones and ignore them in computation.\n",
    "        packed_padded_inputs = pack_padded_sequence(inputs_oh, input_lengths.to(\"cpu\"), batch_first=True)\n",
    "        lstm_out_pack, (h_final, c_final) = self.lstm_layer(packed_padded_inputs)\n",
    "        # h_final and c_final = [num_direction * num_layers, batch_size, hidden_size]\n",
    "        # unpack the output\n",
    "        # lstm_out, lstm_out_len = pad_packed_sequence(lstm_out_pack, batch_first=True)\n",
    "        # lstm_out = [batch_size , seq_length , num_directions * hidden_size]\n",
    "        return h_final, c_final\n",
    "\n",
    "    # `nn.LSTM` takes a tuple of hidden states (h0, c0). h0 = initial\n",
    "    # hidden state for each element in the batch, c0 = initial cell state for each element in the batch\n",
    "    def init_state(self, batch_size):\n",
    "        return (\n",
    "            torch.zeros((self.num_directions * self.num_layers, batch_size, self.hidden_size)),\n",
    "            torch.zeros((self.num_directions * self.num_layers, batch_size, self.hidden_size))\n",
    "        )"
   ]
  },
  {
   "cell_type": "code",
   "execution_count": 2081,
   "metadata": {},
   "outputs": [],
   "source": [
    "class lstm_decoder(nn.Module):\n",
    "    def __init__(self, input_size, hidden_size, num_layers, drop_out):\n",
    "        super().__init__()        \n",
    "        self.input_size = input_size        \n",
    "        self.hidden_size = hidden_size\n",
    "        self.num_layers = num_layers                \n",
    "        self.lstm_layer = nn.LSTM(\n",
    "            input_size = input_size, \n",
    "            hidden_size = hidden_size,\n",
    "            num_layers = num_layers,\n",
    "            batch_first = True,\n",
    "            dropout = drop_out,\n",
    "            bidirectional = False\n",
    "            )   \n",
    "        self.linear = nn.Linear(hidden_size, input_size)                        \n",
    "\n",
    "    def forward(self, input_oh, encoder_hidden, encoder_cell):\n",
    "        # input_oh = [batch_size, target_vocab_size]\n",
    "        # The input sequence length in decoder is always 1 as we feed in one character at a time\n",
    "        input_oh = input_oh.unsqueeze(1).to(Config.DEVICE)\n",
    "        # input_oh = [batch_size, 1, target_vocab_size]        \n",
    "        # inputs_oh = F.one_hot(inputs.T.long(), self.input_size)        \n",
    "        #print(f\"decoder inputs_oh.shape = {inputs_oh.shape}\")\n",
    "        lstm_out, (h_final, c_final) = self.lstm_layer(input_oh, (encoder_hidden, encoder_cell))\n",
    "        #print(f\"decoder lstm_out.shape = {lstm_out.shape}\")\n",
    "        # lstm_out = [batch_size , seq_length , num_directions * hidden_size]\n",
    "        # h_final and c_final = [num_direction * num_layers, batch_size, hidden_size]\n",
    "        # seq_length and num_direction will always be 1 for decoder. Thus\n",
    "        # lstm_out = [batch_size, 1, hidden_size]\n",
    "        # h_final and c_final = [num_layers, batch_size, hidden_size]\n",
    "        pred = self.linear(lstm_out.squeeze(1))\n",
    "        #print(f\"decoder pred.shape = {pred.shape}\")\n",
    "        # pred = [batch_size, output_dim] where output_dim = vocab_size of target sequences ( machine dates in our case)\n",
    "        # For multi class classification the number of output nodes is equal to the number of classes to predict (vocab size)\n",
    "        return pred\n",
    "        "
   ]
  },
  {
   "cell_type": "markdown",
   "metadata": {},
   "source": [
    "Input sequence is of max 30 characters (Tx = 30), a date string like \"January 3, 1984\". The length of each input sequence may vary.\n",
    "Output sequence is of fixed length (Ty=11), a date string like \"1984-01-03\" (10 for digits and one for - character).\n",
    "Vectorized input data is a matrix of dimension batch_size * sequence_length(Tx) * human_date_vocab_size.\n",
    "Take the example of input_date = \"January 3, 1984\". Consider human_date_vocab has 44 characters with each character being mapped to an index. Thus one hot encoded form of an input date character would be vector of 44 zeros with a 1 at the index corresponding to that character.\n",
    "Now our input date is going to be padded to a sequence length of Tx=30. And each of these 30 characters is a vector of length human_date_vocab_size. Similarly output data is matrix of dimension batch_size * sequence_length(Ty) * machine_date_vocab_size.\n",
    "An output_date like \"1984-01-03\" in its one hot encoded for would be a matrix of dimension sequence_length(Ty=11) * machine_date_vocab_size.\n",
    "This holds true for both predicted output dates as well as actual output dates. <br/>\n",
    "\n",
    "Prediction is done for each character in the output date. Thus for a single data row, the model outputs 11 character sequence as output. Each character prediction is a multi class classification problem with loss function (for pytorch) being cross entropy. The sum of losses for each of the 11 character predictions can be considered the loss for a single data row."
   ]
  },
  {
   "cell_type": "code",
   "execution_count": 2082,
   "metadata": {},
   "outputs": [],
   "source": [
    "class EncoderDecoderLitModel(pl.LightningModule):\n",
    "    def __init__(self, hparams, source_vocab_size, target_vocab_size):\n",
    "        super().__init__()\n",
    "        self.save_hyperparameters()\n",
    "        self.lr = hparams[\"lr\"]\n",
    "        self.weight_decay = hparams[\"weight_decay\"]\n",
    "        # target_vocab_size = vocab_size for target sequence data (machine_date) as we are using one hot encoding\n",
    "        self.target_vocab_size = target_vocab_size\n",
    "        self.encoder = lstm_encoder(\n",
    "            input_size = source_vocab_size,\n",
    "            hidden_size = hparams[\"hidden_size\"],\n",
    "            num_layers = hparams[\"num_layers\"],\n",
    "            drop_out = hparams[\"enc_drop_out\"],\n",
    "            is_bidirect = hparams[\"enc_is_bidirect\"]\n",
    "            )\n",
    "        self.decoder = lstm_decoder(\n",
    "            input_size = target_vocab_size,\n",
    "            hidden_size = hparams[\"hidden_size\"],\n",
    "            num_layers = hparams[\"num_layers\"],\n",
    "            drop_out = hparams[\"dec_drop_out\"]\n",
    "        )            \n",
    "\n",
    "    def forward(self, src_seq, src_seq_lengths, target_seq_oh, teacher_forcing_ratio=0.5):\n",
    "        #print(f\"enc_inputs.shape = {enc_inputs.shape}\")\n",
    "        #print(f\"dec_inputs.shape = {dec_inputs.shape}\")\n",
    "        # enc_inputs = [batch_size, max_source_seq_length]\n",
    "        # target_seq = [batch_size, target_seq_length]\n",
    "        batch_size = target_seq_oh.shape[0]        \n",
    "        # target sequence length is 11 as it includes the <sos> token at the begining\n",
    "        target_seq_length = target_seq_oh.shape[1]            \n",
    "        # tensor to store decoder output\n",
    "        dec_outputs = torch.zeros((batch_size, target_seq_length, self.target_vocab_size))        \n",
    "        #print(f\"dec_outputs.shape = {dec_outputs.shape}\")\n",
    "        # first input to the decoder is the <sos> token which is the first character in all target sequences\n",
    "        input = target_seq_oh[:, 0, :].reshape(batch_size, -1)\n",
    "        # input = [batch_size, target_vocab_size]\n",
    "        #print(f\"decoder input.shape = {input.shape}\")\n",
    "        # last hidden and cell state of the encoder is used as initial hidden and cell state of the decoder\n",
    "        enc_hidden, enc_cell = self.encoder(src_seq, src_seq_lengths)\n",
    "        for t in range(1, target_seq_length):            \n",
    "            dec_output = self.decoder(input, enc_hidden, enc_cell)\n",
    "            # dec_output = [batch_size, target_vocab_size]            \n",
    "            dec_outputs[:, t, :] = dec_output\n",
    "            # select the max value out of dec_input_size values for each row\n",
    "            # pred_t = dec_output.argmax(1)\n",
    "            #print(f\"decoder pred_t.shape = {pred_t.shape}\")\n",
    "            # whether to use teacher forcing\n",
    "            teacher_forcing = False if np.random.random() < teacher_forcing_ratio else True            \n",
    "            # if teacher forcing use actual token at t as the input to t+1, otherwise use the prediction at t\n",
    "            # as the input to t+1\n",
    "            actual_t = target_seq_oh[:, t, :]\n",
    "            #print(f\"decoder actual_t.shape = {actual_t.shape}\")\n",
    "            input = actual_t if teacher_forcing else dec_outputs[:, t, :]\n",
    "            input = input.reshape(batch_size, -1)\n",
    "        return dec_outputs            \n",
    "\n",
    "    def configure_optimizers(self):\n",
    "        model_optimizer = torch.optim.Adam(filter(lambda p: p.requires_grad, self.parameters()), lr=self.lr, weight_decay=self.weight_decay)\n",
    "        lr_scheduler = torch.optim.lr_scheduler.ReduceLROnPlateau(model_optimizer, mode=\"min\")\n",
    "        return {\n",
    "            \"optimizer\": model_optimizer,\n",
    "            \"lr_scheduler\": {\n",
    "                \"scheduler\": lr_scheduler,\n",
    "                \"monitor\": \"val_loss\",\n",
    "                \"frequency\": 1\n",
    "            }\n",
    "        }\n",
    "\n",
    "    def training_step(self, batch, batch_idx):\n",
    "        # data loader batch doesn't perform one hot encoding of either source or target sequences\n",
    "        src_padded_seq, src_seq_lengths, target_seq = batch\n",
    "        # target_seq = [batch_size, target_seq_length]\n",
    "        # src_padded_seq = [batch_size, max_src_seq_length]\n",
    "        target_seq_oh = one_hot_encode(target_seq, self.target_vocab_size)\n",
    "        # target_seq_oh = [batch_size, target_seq_length, target_vocab_size]\n",
    "        pred_target_seq = self(src_padded_seq, src_seq_lengths, target_seq_oh)\n",
    "        # pred_target_seq = [batch_size, target_seq_length, target_vocab_size]\n",
    "        # we will exclude the first character from both the predicted and actual target dates. The first character\n",
    "        # in target_dates in <sos> token while the first value in pred_target_dates is 0.         \n",
    "        #print(f\"target_seq.shape = {target_seq.shape}\")\n",
    "        #print(f\"pred_target_seq.shape = {pred_target_seq.shape}\")\n",
    "        target_seq = target_seq[:, 1:]\n",
    "        #target_seq = target_seq.to(torch.float32)\n",
    "        # flatten the target_seq to 1d \n",
    "        target_seq = target_seq.reshape(-1)\n",
    "        pred_target_seq = pred_target_seq[:, 1:, :].to(Config.DEVICE)\n",
    "        # flatten the predicted target seq to 2d\n",
    "        pred_target_seq = pred_target_seq.view(-1, self.target_vocab_size)\n",
    "        print(f\"target_seq.shape = {target_seq.shape}\")\n",
    "        print(f\"pred_target_seq.shape = {pred_target_seq.shape}\")\n",
    "        print(f\"target sequence row 0:\")\n",
    "        print(target_seq[0])\n",
    "        print(f\"pred target sequence row 0:\")\n",
    "        print(pred_target_seq[0])\n",
    "        loss = cross_entropy(pred_target_seq, target_seq)\n",
    "        #acc = accuracy(pred_target_seq, target_seq)\n",
    "        self.log(\"train_loss\", loss, prog_bar=True, logger=True, on_step=True, on_epoch=True)\n",
    "        #self.log(\"train_acc\", acc, prog_bar=True, logger=True, on_step=True, on_epoch=True)\n",
    "        return loss\n",
    "\n",
    "    def validation_step(self, batch, batch_idx):        \n",
    "        src_padded_seq, src_seq_lengths, target_seq = batch\n",
    "        target_seq_oh = one_hot_encode(target_seq, self.target_vocab_size)\n",
    "        # Remember to turn teacher forcing off for validation\n",
    "        pred_target_seq = self(src_padded_seq, src_seq_lengths, target_seq_oh, teacher_forcing_ratio=0)\n",
    "        target_seq = target_seq[:, 1:].reshape(-1)\n",
    "        pred_target_seq = pred_target_seq[:, 1:, :].to(Config.DEVICE)\n",
    "        # flatten the predicted target seq to 2d\n",
    "        pred_target_seq = pred_target_seq.view(-1, self.target_vocab_size)\n",
    "        val_loss = cross_entropy(pred_target_seq, target_seq)\n",
    "        #val_acc = accuracy(pred_target_seq, target_seq)\n",
    "        self.log(\"val_loss\", val_loss, prog_bar=True, logger=True, on_step=True, on_epoch=True)\n",
    "        #self.log(\"val_acc\", val_acc, prog_bar=True, logger=True, on_step=True, on_epoch=True)\n",
    "        return val_loss"
   ]
  },
  {
   "cell_type": "code",
   "execution_count": 2083,
   "metadata": {},
   "outputs": [
    {
     "name": "stderr",
     "output_type": "stream",
     "text": [
      "Global seed set to 42\n"
     ]
    }
   ],
   "source": [
    "# For results reproducibility \n",
    "# sets seeds for numpy, torch, python.random and PYTHONHASHSEED.\n",
    "pl.seed_everything(42, workers=True)\n",
    "# model hyperparameters\n",
    "model_params = {    \n",
    "    \"num_layers\": 2,\n",
    "    \"enc_is_bidirect\": False,\n",
    "    \"hidden_size\": 100,\n",
    "    \"enc_drop_out\": 0.25,\n",
    "    \"dec_drop_out\": 0.25,\n",
    "    \"lr\": 0.001,\n",
    "    \"weight_decay\": 0.001\n",
    "    }"
   ]
  },
  {
   "cell_type": "code",
   "execution_count": 2084,
   "metadata": {},
   "outputs": [],
   "source": [
    "from pytorch_lightning.callbacks import Callback\n",
    "from pytorch_lightning import LightningModule, Trainer\n",
    "\n",
    "class MetricsAggCallback(Callback):\n",
    "    def __init__(self, metric_to_monitor, mode):\n",
    "        self.metric_to_monitor = metric_to_monitor\n",
    "        self.metrics = []\n",
    "        self.best_metric = None\n",
    "        self.mode = mode\n",
    "        self.best_metric_epoch = None\n",
    "\n",
    "    def on_epoch_end(self, trainer: Trainer, pl_module: LightningModule):\n",
    "        metric_value = trainer.callback_metrics[self.metric_to_monitor].cpu().detach().item()\n",
    "        print(f\"metric {self.metric_to_monitor} = {metric_value}\")\n",
    "        self.metrics.append(metric_value)\n",
    "        if self.mode == \"max\":\n",
    "            self.best_metric = max(self.metrics)\n",
    "            self.best_metric_epoch = self.metrics.index(self.best_metric)    "
   ]
  },
  {
   "cell_type": "code",
   "execution_count": 2085,
   "metadata": {},
   "outputs": [],
   "source": [
    "def run_training(fold, fold_loss, dl_train, dl_val, h_vocab, m_vocab, find_lr=True):\n",
    "    fold_str = f\"fold{fold}\"\n",
    "    print(f\"Running training for {fold_str}\")\n",
    "    seq2seq_model = EncoderDecoderLitModel(\n",
    "        hparams = model_params, \n",
    "        source_vocab_size = len(h_vocab),\n",
    "        target_vocab_size = len(m_vocab)\n",
    "        )\n",
    "    tb_logger = pl.loggers.TensorBoardLogger(save_dir=\"logs\")    \n",
    "    chkpt_file_name = \"best_model_{epoch}_{val_loss:.4f}\"\n",
    "    loss_chkpt_callback = ModelCheckpoint(dirpath=\"./model\", verbose=True, monitor=\"val_loss\", mode=\"min\", filename=chkpt_file_name)    \n",
    "    #acc_chkpt_callback = MetricsAggCallback(metric_to_monitor=\"val_acc\", mode=\"max\")\n",
    "    trainer = pl.Trainer(\n",
    "        gpus = 1,\n",
    "        deterministic = True,\n",
    "        auto_select_gpus = True,\n",
    "        progress_bar_refresh_rate = 20,\n",
    "        max_epochs = Config.NUM_EPOCHS,\n",
    "        logger = tb_logger,\n",
    "        auto_lr_find = True,    \n",
    "        precision = Config.PRECISION,   \n",
    "        fast_dev_run = Config.FAST_DEV_RUN, \n",
    "        callbacks = [loss_chkpt_callback] #, acc_chkpt_callback]\n",
    "    )        \n",
    "    if find_lr:\n",
    "        trainer.tune(model=seq2seq_model, train_dataloaders=dl_train)\n",
    "        print(seq2seq_model.lr)\n",
    "    trainer.fit(seq2seq_model, train_dataloaders=dl_train, val_dataloaders=dl_val)\n",
    "    #fold_loss.append(loss_chkpt_callback.best_model_score.cpu().detach().item())\n",
    "    #fold_acc.append(acc_chkpt_callback.best_metric)\n",
    "    #print(f\"Loss for {fold_str} = {fold_loss[fold]}\")\n",
    "    del trainer, seq2seq_model, loss_chkpt_callback \n"
   ]
  },
  {
   "cell_type": "code",
   "execution_count": 2086,
   "metadata": {},
   "outputs": [
    {
     "name": "stdout",
     "output_type": "stream",
     "text": [
      "Running training for fold0\n"
     ]
    },
    {
     "name": "stderr",
     "output_type": "stream",
     "text": [
      "Using native 16bit precision.\n",
      "GPU available: True, used: True\n",
      "TPU available: False, using: 0 TPU cores\n",
      "IPU available: False, using: 0 IPUs\n",
      "Running in fast_dev_run mode: will run a full train, val, test and prediction loop using 1 batch(es).\n",
      "/home/bk_anupam/anaconda3/envs/fastai/lib/python3.9/site-packages/pytorch_lightning/tuner/lr_finder.py:207: UserWarning: Skipping learning rate finder since fast_dev_run is enabled.\n",
      "  rank_zero_warn(\"Skipping learning rate finder since fast_dev_run is enabled.\", UserWarning)\n",
      "LOCAL_RANK: 0 - CUDA_VISIBLE_DEVICES: [0]\n",
      "\n",
      "  | Name    | Type         | Params\n",
      "-----------------------------------------\n",
      "0 | encoder | lstm_encoder | 140 K \n",
      "1 | decoder | lstm_decoder | 127 K \n",
      "-----------------------------------------\n",
      "267 K     Trainable params\n",
      "0         Non-trainable params\n",
      "267 K     Total params\n",
      "1.070     Total estimated model params size (MB)\n"
     ]
    },
    {
     "name": "stdout",
     "output_type": "stream",
     "text": [
      "0.001\n"
     ]
    },
    {
     "name": "stderr",
     "output_type": "stream",
     "text": [
      "/home/bk_anupam/anaconda3/envs/fastai/lib/python3.9/site-packages/pytorch_lightning/trainer/data_loading.py:326: UserWarning: The number of training samples (1) is smaller than the logging interval Trainer(log_every_n_steps=50). Set a lower value for log_every_n_steps if you want to see logs for the training epoch.\n",
      "  rank_zero_warn(\n"
     ]
    },
    {
     "data": {
      "application/vnd.jupyter.widget-view+json": {
       "model_id": "8a007baa069e4ecaaffacaa89e80f905",
       "version_major": 2,
       "version_minor": 0
      },
      "text/plain": [
       "Training: -1it [00:00, ?it/s]"
      ]
     },
     "metadata": {},
     "output_type": "display_data"
    },
    {
     "name": "stdout",
     "output_type": "stream",
     "text": [
      "target_seq.shape = torch.Size([1280])\n",
      "pred_target_seq.shape = torch.Size([1280, 12])\n",
      "target sequence row 0:\n",
      "tensor(2, device='cuda:0')\n",
      "pred target sequence row 0:\n",
      "tensor([ 0.1059, -0.0819, -0.0757, -0.0419,  0.0172, -0.0109,  0.0062,  0.0097,\n",
      "        -0.0643,  0.0072, -0.0543,  0.0151], device='cuda:0',\n",
      "       grad_fn=<SelectBackward0>)\n"
     ]
    },
    {
     "data": {
      "application/vnd.jupyter.widget-view+json": {
       "model_id": "571d3b9c51d94cc1a1cd231ac8da5738",
       "version_major": 2,
       "version_minor": 0
      },
      "text/plain": [
       "Validating: 0it [00:00, ?it/s]"
      ]
     },
     "metadata": {},
     "output_type": "display_data"
    }
   ],
   "source": [
    "find_lr = True\n",
    "fold_loss = []\n",
    "\n",
    "for fold in range(Config.NUM_FOLDS):\n",
    "    dl_train, dl_val, ds_train, ds_val, h_vocab, m_vocab = get_fold_dls(fold, df_dates)\n",
    "    run_training(fold, fold_loss, dl_train, dl_val, h_vocab, m_vocab)\n",
    "    break"
   ]
  },
  {
   "cell_type": "code",
   "execution_count": 2087,
   "metadata": {},
   "outputs": [
    {
     "name": "stdout",
     "output_type": "stream",
     "text": [
      "tensor([[ 0.5524, -0.0460,  1.2328,  0.9464, -0.1870],\n",
      "        [ 0.7157,  1.1011,  0.5825,  0.0911, -0.3626],\n",
      "        [ 0.6944,  0.6800, -0.7936, -1.0876,  1.0285]], requires_grad=True)\n",
      "tensor([2, 0, 1])\n"
     ]
    }
   ],
   "source": [
    "loss = nn.CrossEntropyLoss()\n",
    "input = torch.randn(3, 5, requires_grad=True)\n",
    "print(input)\n",
    "target = torch.empty(3, dtype=torch.long).random_(5)\n",
    "print(target)\n",
    "output = loss(input, target)\n",
    "output.backward()"
   ]
  }
 ],
 "metadata": {
  "interpreter": {
   "hash": "0197751694b00855cd01780d565fa2e16f7945f624c4146f8d6aac863c2ba178"
  },
  "kernelspec": {
   "display_name": "Python 3.9.7 64-bit ('fastai': conda)",
   "language": "python",
   "name": "python3"
  },
  "language_info": {
   "codemirror_mode": {
    "name": "ipython",
    "version": 3
   },
   "file_extension": ".py",
   "mimetype": "text/x-python",
   "name": "python",
   "nbconvert_exporter": "python",
   "pygments_lexer": "ipython3",
   "version": "3.9.7"
  },
  "orig_nbformat": 4
 },
 "nbformat": 4,
 "nbformat_minor": 2
}
