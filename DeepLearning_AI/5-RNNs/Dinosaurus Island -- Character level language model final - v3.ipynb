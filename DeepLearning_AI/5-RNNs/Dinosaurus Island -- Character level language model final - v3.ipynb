{
 "cells": [
  {
   "cell_type": "markdown",
   "source": [
    "# Character level language model - Dinosaurus land\n",
    "\n",
    "Welcome to Dinosaurus Island! 65 million years ago, dinosaurs existed, and in this assignment they are back. You are in charge of a special task. Leading biology researchers are creating new breeds of dinosaurs and bringing them to life on earth, and your job is to give names to these dinosaurs. If a dinosaur does not like its name, it might go beserk, so choose wisely! \n",
    "\n",
    "<table>\n",
    "<td>\n",
    "<img src=\"images/dino.jpg\" style=\"width:250;height:300px;\">\n",
    "\n",
    "</td>\n",
    "\n",
    "</table>\n",
    "\n",
    "Luckily you have learned some deep learning and you will use it to save the day. Your assistant has collected a list of all the dinosaur names they could find, and compiled them into this [dataset](dinos.txt). (Feel free to take a look by clicking the previous link.) To create new dinosaur names, you will build a character level language model to generate new names. Your algorithm will learn the different name patterns, and randomly generate new names. Hopefully this algorithm will keep you and your team safe from the dinosaurs' wrath! \n",
    "\n",
    "By completing this assignment you will learn:\n",
    "\n",
    "- How to store text data for processing using an RNN \n",
    "- How to synthesize data, by sampling predictions at each time step and passing it to the next RNN-cell unit\n",
    "- How to build a character-level text generation recurrent neural network\n",
    "- Why clipping the gradients is important\n",
    "\n",
    "We will begin by loading in some functions that we have provided for you in `rnn_utils`. Specifically, you have access to functions such as `rnn_forward` and `rnn_backward` which are equivalent to those you've implemented in the previous assignment. "
   ],
   "metadata": {}
  },
  {
   "cell_type": "code",
   "execution_count": 2,
   "source": [
    "import numpy as np\r\n",
    "from utils import *\r\n",
    "import random"
   ],
   "outputs": [],
   "metadata": {
    "collapsed": true
   }
  },
  {
   "cell_type": "markdown",
   "source": [
    "## 1 - Problem Statement\n",
    "\n",
    "### 1.1 - Dataset and Preprocessing\n",
    "\n",
    "Run the following cell to read the dataset of dinosaur names, create a list of unique characters (such as a-z), and compute the dataset and vocabulary size. "
   ],
   "metadata": {
    "collapsed": true
   }
  },
  {
   "cell_type": "code",
   "execution_count": 4,
   "source": [
    "data = open('dinos.txt', 'r').read()\r\n",
    "data = data.lower()\r\n",
    "chars = list(set(data))\r\n",
    "data_size, vocab_size = len(data), len(chars)\r\n",
    "print('There are %d total characters and %d unique characters in your data.' % (data_size, vocab_size))"
   ],
   "outputs": [
    {
     "output_type": "stream",
     "name": "stdout",
     "text": [
      "There are 19909 total characters and 27 unique characters in your data.\n"
     ]
    }
   ],
   "metadata": {}
  },
  {
   "cell_type": "markdown",
   "source": [
    "The characters are a-z (26 characters) plus the \"\\n\" (or newline character), which in this assignment plays a role similar to the `<EOS>` (or \"End of sentence\") token we had discussed in lecture, only here it indicates the end of the dinosaur name rather than the end of a sentence. In the cell below, we create a python dictionary (i.e., a hash table) to map each character to an index from 0-26. We also create a second python dictionary that maps each index back to the corresponding character character. This will help you figure out what index corresponds to what character in the probability distribution output of the softmax layer. Below, `char_to_ix` and `ix_to_char` are the python dictionaries. "
   ],
   "metadata": {}
  },
  {
   "cell_type": "code",
   "execution_count": 5,
   "source": [
    "char_to_ix = { ch:i for i,ch in enumerate(sorted(chars)) }\r\n",
    "ix_to_char = { i:ch for i,ch in enumerate(sorted(chars)) }\r\n",
    "print(ix_to_char)"
   ],
   "outputs": [
    {
     "output_type": "stream",
     "name": "stdout",
     "text": [
      "{0: '\\n', 1: 'a', 2: 'b', 3: 'c', 4: 'd', 5: 'e', 6: 'f', 7: 'g', 8: 'h', 9: 'i', 10: 'j', 11: 'k', 12: 'l', 13: 'm', 14: 'n', 15: 'o', 16: 'p', 17: 'q', 18: 'r', 19: 's', 20: 't', 21: 'u', 22: 'v', 23: 'w', 24: 'x', 25: 'y', 26: 'z'}\n"
     ]
    }
   ],
   "metadata": {}
  },
  {
   "cell_type": "markdown",
   "source": [
    "### 1.2 - Overview of the model\n",
    "\n",
    "Your model will have the following structure: \n",
    "\n",
    "- Initialize parameters \n",
    "- Run the optimization loop\n",
    "    - Forward propagation to compute the loss function\n",
    "    - Backward propagation to compute the gradients with respect to the loss function\n",
    "    - Clip the gradients to avoid exploding gradients\n",
    "    - Using the gradients, update your parameter with the gradient descent update rule.\n",
    "- Return the learned parameters \n",
    "    \n",
    "<img src=\"images/rnn1.png\" style=\"width:450;height:300px;\">\n",
    "<caption><center> **Figure 1**: Recurrent Neural Network, similar to what you had built in the previous notebook \"Building a RNN - Step by Step\".  </center></caption>\n",
    "\n",
    "At each time-step, the RNN tries to predict what is the next character given the previous characters. The dataset $X = (x^{\\langle 1 \\rangle}, x^{\\langle 2 \\rangle}, ..., x^{\\langle T_x \\rangle})$ is a list of characters in the training set, while $Y = (y^{\\langle 1 \\rangle}, y^{\\langle 2 \\rangle}, ..., y^{\\langle T_x \\rangle})$ is such that at every time-step $t$, we have $y^{\\langle t \\rangle} = x^{\\langle t+1 \\rangle}$. "
   ],
   "metadata": {}
  },
  {
   "cell_type": "markdown",
   "source": [
    "## 2 - Building blocks of the model\n",
    "\n",
    "In this part, you will build two important blocks of the overall model:\n",
    "- Gradient clipping: to avoid exploding gradients\n",
    "- Sampling: a technique used to generate characters\n",
    "\n",
    "You will then apply these two functions to build the model."
   ],
   "metadata": {}
  },
  {
   "cell_type": "markdown",
   "source": [
    "### 2.1 - Clipping the gradients in the optimization loop\n",
    "\n",
    "In this section you will implement the `clip` function that you will call inside of your optimization loop. Recall that your overall loop structure usually consists of a forward pass, a cost computation, a backward pass, and a parameter update. Before updating the parameters, you will perform gradient clipping when needed to make sure that your gradients are not \"exploding,\" meaning taking on overly large values. \n",
    "\n",
    "In the exercise below, you will implement a function `clip` that takes in a dictionary of gradients and returns a clipped version of gradients if needed. There are different ways to clip gradients; we will use a simple element-wise clipping procedure, in which every element of the gradient vector is clipped to lie between some range [-N, N]. More generally, you will provide a `maxValue` (say 10). In this example, if any component of the gradient vector is greater than 10, it would be set to 10; and if any component of the gradient vector is less than -10, it would be set to -10. If it is between -10 and 10, it is left alone. \n",
    "\n",
    "<img src=\"images/clip.png\" style=\"width:400;height:150px;\">\n",
    "<caption><center> **Figure 2**: Visualization of gradient descent with and without gradient clipping, in a case where the network is running into slight \"exploding gradient\" problems. </center></caption>\n",
    "\n",
    "**Exercise**: Implement the function below to return the clipped gradients of your dictionary `gradients`. Your function takes in a maximum threshold and returns the clipped versions of your gradients. You can check out this [hint](https://docs.scipy.org/doc/numpy-1.13.0/reference/generated/numpy.clip.html) for examples of how to clip in numpy. You will need to use the argument `out = ...`."
   ],
   "metadata": {}
  },
  {
   "cell_type": "code",
   "execution_count": 8,
   "source": [
    "### GRADED FUNCTION: clip\r\n",
    "\r\n",
    "def clip(gradients, maxValue):\r\n",
    "    '''\r\n",
    "    Clips the gradients' values between minimum and maximum.\r\n",
    "    \r\n",
    "    Arguments:\r\n",
    "    gradients -- a dictionary containing the gradients \"dWaa\", \"dWax\", \"dWya\", \"db\", \"dby\"\r\n",
    "    maxValue -- everything above this number is set to this number, and everything less than -maxValue is set to -maxValue\r\n",
    "    \r\n",
    "    Returns: \r\n",
    "    gradients -- a dictionary with the clipped gradients.\r\n",
    "    '''\r\n",
    "    \r\n",
    "    dWaa, dWax, dWya, db, dby = gradients['dWaa'], gradients['dWax'], gradients['dWya'], gradients['db'], gradients['dby']\r\n",
    "   \r\n",
    "    ### START CODE HERE ###\r\n",
    "    # clip to mitigate exploding gradients, loop over [dWax, dWaa, dWya, db, dby]. (≈2 lines)\r\n",
    "    for gradient in [dWax, dWaa, dWya, db, dby]:\r\n",
    "        np.clip(gradient, -maxValue, maxValue, out=gradient)\r\n",
    "    ### END CODE HERE ###\r\n",
    "    \r\n",
    "    gradients = {\"dWaa\": dWaa, \"dWax\": dWax, \"dWya\": dWya, \"db\": db, \"dby\": dby}\r\n",
    "    \r\n",
    "    return gradients   "
   ],
   "outputs": [],
   "metadata": {
    "collapsed": true
   }
  },
  {
   "cell_type": "code",
   "execution_count": 9,
   "source": [
    "np.random.seed(3)\r\n",
    "dWax = np.random.randn(5,3)*10\r\n",
    "dWaa = np.random.randn(5,5)*10\r\n",
    "dWya = np.random.randn(2,5)*10\r\n",
    "db = np.random.randn(5,1)*10\r\n",
    "dby = np.random.randn(2,1)*10\r\n",
    "gradients = {\"dWax\": dWax, \"dWaa\": dWaa, \"dWya\": dWya, \"db\": db, \"dby\": dby}\r\n",
    "gradients = clip(gradients, 10)\r\n",
    "print(\"gradients[\\\"dWaa\\\"][1][2] =\", gradients[\"dWaa\"][1][2])\r\n",
    "print(\"gradients[\\\"dWax\\\"][3][1] =\", gradients[\"dWax\"][3][1])\r\n",
    "print(\"gradients[\\\"dWya\\\"][1][2] =\", gradients[\"dWya\"][1][2])\r\n",
    "print(\"gradients[\\\"db\\\"][4] =\", gradients[\"db\"][4])\r\n",
    "print(\"gradients[\\\"dby\\\"][1] =\", gradients[\"dby\"][1])"
   ],
   "outputs": [
    {
     "output_type": "stream",
     "name": "stdout",
     "text": [
      "gradients[\"dWaa\"][1][2] = 10.0\n",
      "gradients[\"dWax\"][3][1] = -10.0\n",
      "gradients[\"dWya\"][1][2] = 0.2971381536101662\n",
      "gradients[\"db\"][4] = [10.]\n",
      "gradients[\"dby\"][1] = [8.45833407]\n"
     ]
    }
   ],
   "metadata": {}
  },
  {
   "cell_type": "markdown",
   "source": [
    "** Expected output:**\n",
    "\n",
    "<table>\n",
    "<tr>\n",
    "    <td> \n",
    "    **gradients[\"dWaa\"][1][2] **\n",
    "    </td>\n",
    "    <td> \n",
    "    10.0\n",
    "    </td>\n",
    "</tr>\n",
    "\n",
    "<tr>\n",
    "    <td> \n",
    "    **gradients[\"dWax\"][3][1]**\n",
    "    </td>\n",
    "    <td> \n",
    "    -10.0\n",
    "    </td>\n",
    "    </td>\n",
    "</tr>\n",
    "<tr>\n",
    "    <td> \n",
    "    **gradients[\"dWya\"][1][2]**\n",
    "    </td>\n",
    "    <td> \n",
    "0.29713815361\n",
    "    </td>\n",
    "</tr>\n",
    "<tr>\n",
    "    <td> \n",
    "    **gradients[\"db\"][4]**\n",
    "    </td>\n",
    "    <td> \n",
    "[ 10.]\n",
    "    </td>\n",
    "</tr>\n",
    "<tr>\n",
    "    <td> \n",
    "    **gradients[\"dby\"][1]**\n",
    "    </td>\n",
    "    <td> \n",
    "[ 8.45833407]\n",
    "    </td>\n",
    "</tr>\n",
    "\n",
    "</table>"
   ],
   "metadata": {}
  },
  {
   "cell_type": "markdown",
   "source": [
    "### 2.2 - Sampling\r\n",
    "\r\n",
    "Now assume that your model is trained. You would like to generate new text (characters). The process of generation is explained in the picture below:\r\n",
    "\r\n",
    "<img src=\"images/dinos3.png\" style=\"width:500;height:300px;\">\r\n",
    "<caption><center> **Figure 3**: In this picture, we assume the model is already trained. We pass in $x^{\\langle 1 \\rangle} = \\vec{0}$ at the first time step, and have the network then sample one character at a time. </center></caption>\r\n",
    "\r\n",
    "**Exercise**: Implement the `sample` function below to sample characters. You need to carry out 4 steps:\r\n",
    "\r\n",
    "- **Step 1**: Pass the network the first \"dummy\" input $x^{\\langle 1\\rangle} = \\vec{0}$ (the vector of zeros). This is the default input before we've generated any characters. We also set $a^{\\langle 0 \\rangle} = \\vec{0}$\r\n",
    "\r\n",
    "- **Step 2**: Run one step of forward propagation to get $a^{\\langle 1 \\rangle}$ and $\\hat{y}^{\\langle 1 \\rangle}$. Here are the equations:\r\n",
    "\r\n",
    "$$ a^{\\langle t+1 \\rangle} = \\tanh(W_{ax}  x^{\\langle t \\rangle } + W_{aa} a^{\\langle t \\rangle } + b)\\tag{1}$$\r\n",
    "\r\n",
    "$$ z^{\\langle t + 1 \\rangle } = W_{ya}  a^{\\langle t + 1 \\rangle } + b_y \\tag{2}$$\r\n",
    "\r\n",
    "$$ \\hat{y}^{\\langle t+1 \\rangle } = softmax(z^{\\langle t + 1 \\rangle })\\tag{3}$$\r\n",
    "\r\n",
    "Note that $\\hat{y}^{\\langle t+1 \\rangle }$ is a (softmax) probability vector (its entries are between 0 and 1 and sum to 1). $\\hat{y}^{\\langle t+1 \\rangle}_i$ represents the probability that the character indexed by \"i\" is the next character.  We have provided a `softmax()` function that you can use.\r\n",
    "\r\n",
    "- **Step 3**: Carry out sampling: Pick the next character's index according to the probability distribution specified by $\\hat{y}^{\\langle t+1 \\rangle }$. This means that if $\\hat{y}^{\\langle t+1 \\rangle }_i = 0.16$, you will pick the index \"i\" with 16% probability. To implement it, you can use [`np.random.choice`](https://docs.scipy.org/doc/numpy-1.13.0/reference/generated/numpy.random.choice.html).\r\n",
    "\r\n",
    "Here is an example of how to use `np.random.choice()`:\r\n",
    "```python\r\n",
    "np.random.seed(0)\r\n",
    "p = np.array([0.1, 0.0, 0.7, 0.2])\r\n",
    "index = np.random.choice([0, 1, 2, 3], p = p.ravel())\r\n",
    "```\r\n",
    "This means that you will pick the `index` according to the distribution: \r\n",
    "$P(index = 0) = 0.1, P(index = 1) = 0.0, P(index = 2) = 0.7, P(index = 3) = 0.2$.\r\n",
    "\r\n",
    "- **Step 4**: The last step to implement in `sample()` is to overwrite the variable `x`, which currently stores $x^{\\langle t \\rangle }$, with the value of $x^{\\langle t + 1 \\rangle }$. You will represent $x^{\\langle t + 1 \\rangle }$ by creating a one-hot vector corresponding to the character you've chosen as your prediction. You will then forward propagate $x^{\\langle t + 1 \\rangle }$ in Step 1 and keep repeating the process until you get a \"\\n\" character, indicating you've reached the end of the dinosaur name. "
   ],
   "metadata": {}
  },
  {
   "cell_type": "code",
   "execution_count": 45,
   "source": [
    "# GRADED FUNCTION: sample\r\n",
    "\r\n",
    "def sample(parameters, char_to_ix, seed):\r\n",
    "    \"\"\"\r\n",
    "    Sample a sequence of characters according to a sequence of probability distributions output of the RNN\r\n",
    "\r\n",
    "    Arguments:\r\n",
    "    parameters -- python dictionary containing the parameters Waa, Wax, Wya, by, and b. \r\n",
    "    char_to_ix -- python dictionary mapping each character to an index.\r\n",
    "    seed -- used for grading purposes. Do not worry about it.\r\n",
    "\r\n",
    "    Returns:\r\n",
    "    indices -- a list of length n containing the indices of the sampled characters.\r\n",
    "    \"\"\"\r\n",
    "    \r\n",
    "    # Retrieve parameters and relevant shapes from \"parameters\" dictionary\r\n",
    "    Waa, Wax, Wya, by, b = parameters['Waa'], parameters['Wax'], parameters['Wya'], parameters['by'], parameters['b']\r\n",
    "    vocab_size = by.shape[0]\r\n",
    "    n_a = Waa.shape[1]\r\n",
    "    \r\n",
    "    ### START CODE HERE ###\r\n",
    "    # Step 1: Create the one-hot vector x for the first character (initializing the sequence generation). (≈1 line)\r\n",
    "    x = np.zeros((vocab_size, 1))\r\n",
    "    # Step 1': Initialize a_prev as zeros (≈1 line)\r\n",
    "    a_prev = np.zeros((n_a, 1))\r\n",
    "    \r\n",
    "    # Create an empty list of indices, this is the list which will contain the list of indices of the characters to generate (≈1 line)\r\n",
    "    indices = []\r\n",
    "    \r\n",
    "    # Idx is a flag to detect a newline character, we initialize it to -1\r\n",
    "    idx = -1 \r\n",
    "    \r\n",
    "    # Loop over time-steps t. At each time-step, sample a character from a probability distribution and append \r\n",
    "    # its index to \"indices\". We'll stop if we reach 50 characters (which should be very unlikely with a well \r\n",
    "    # trained model), which helps debugging and prevents entering an infinite loop. \r\n",
    "    counter = 0\r\n",
    "    newline_character = char_to_ix['\\n']\r\n",
    "    \r\n",
    "    while (idx != newline_character and counter != 50):\r\n",
    "        \r\n",
    "        # Step 2: Forward propagate x using the equations (1), (2) and (3)\r\n",
    "        a = np.tanh(np.dot(Wax, x) + np.dot(Waa, a_prev) + b)\r\n",
    "        z = np.dot(Wya, a) + by\r\n",
    "        y = softmax(z)\r\n",
    "        \r\n",
    "        # for grading purposes\r\n",
    "        np.random.seed(counter + seed) \r\n",
    "        \r\n",
    "        # Step 3: Sample the index of a character within the vocabulary from the probability distribution y\r\n",
    "        idx = np.random.choice(list(range(vocab_size)), p=y.ravel())\r\n",
    "\r\n",
    "        # Append the index to \"indices\"\r\n",
    "        indices.append(idx)\r\n",
    "        \r\n",
    "        # Step 4: Overwrite the input character as the one corresponding to the sampled index.\r\n",
    "        x = np.zeros((vocab_size, 1))\r\n",
    "        x[idx] = 1\r\n",
    "        \r\n",
    "        # Update \"a_prev\" to be \"a\"\r\n",
    "        a_prev = a\r\n",
    "        \r\n",
    "        # for grading purposes\r\n",
    "        seed += 1\r\n",
    "        counter +=1\r\n",
    "        \r\n",
    "    ### END CODE HERE ###\r\n",
    "\r\n",
    "    if (counter == 50):\r\n",
    "        indices.append(char_to_ix['\\n'])\r\n",
    "    \r\n",
    "    return indices"
   ],
   "outputs": [],
   "metadata": {
    "collapsed": true
   }
  },
  {
   "cell_type": "code",
   "execution_count": 46,
   "source": [
    "np.random.seed(2)\r\n",
    "_, n_a = 20, 100\r\n",
    "Wax, Waa, Wya = np.random.randn(n_a, vocab_size), np.random.randn(n_a, n_a), np.random.randn(vocab_size, n_a)\r\n",
    "b, by = np.random.randn(n_a, 1), np.random.randn(vocab_size, 1)\r\n",
    "parameters = {\"Wax\": Wax, \"Waa\": Waa, \"Wya\": Wya, \"b\": b, \"by\": by}\r\n",
    "\r\n",
    "\r\n",
    "indices = sample(parameters, char_to_ix, 0)\r\n",
    "print(\"Sampling:\")\r\n",
    "print(\"list of sampled indices:\", indices)\r\n",
    "print(\"list of sampled characters:\", [ix_to_char[i] for i in indices])"
   ],
   "outputs": [
    {
     "output_type": "stream",
     "name": "stdout",
     "text": [
      "Sampling:\n",
      "list of sampled indices: [12, 17, 24, 14, 13, 9, 10, 22, 24, 6, 13, 11, 12, 6, 21, 15, 21, 14, 3, 2, 1, 21, 18, 24, 7, 25, 6, 25, 18, 10, 16, 2, 3, 8, 15, 12, 11, 7, 1, 12, 10, 2, 7, 7, 11, 17, 24, 12, 3, 1, 0]\n",
      "list of sampled characters: ['l', 'q', 'x', 'n', 'm', 'i', 'j', 'v', 'x', 'f', 'm', 'k', 'l', 'f', 'u', 'o', 'u', 'n', 'c', 'b', 'a', 'u', 'r', 'x', 'g', 'y', 'f', 'y', 'r', 'j', 'p', 'b', 'c', 'h', 'o', 'l', 'k', 'g', 'a', 'l', 'j', 'b', 'g', 'g', 'k', 'q', 'x', 'l', 'c', 'a', '\\n']\n"
     ]
    }
   ],
   "metadata": {}
  },
  {
   "cell_type": "markdown",
   "source": [
    "** Expected output:**\n",
    "<table>\n",
    "<tr>\n",
    "    <td> \n",
    "    **list of sampled indices:**\n",
    "    </td>\n",
    "    <td> \n",
    "    [12, 17, 24, 14, 13, 9, 10, 22, 24, 6, 13, 11, 12, 6, 21, 15, 21, 14, 3, 2, 1, 21, 18, 24, <br>\n",
    "    7, 25, 6, 25, 18, 10, 16, 2, 3, 8, 15, 12, 11, 7, 1, 12, 10, 2, 7, 7, 11, 5, 6, 12, 25, 0, 0]\n",
    "    </td>\n",
    "    </tr><tr>\n",
    "    <td> \n",
    "    **list of sampled characters:**\n",
    "    </td>\n",
    "    <td> \n",
    "    ['l', 'q', 'x', 'n', 'm', 'i', 'j', 'v', 'x', 'f', 'm', 'k', 'l', 'f', 'u', 'o', <br>\n",
    "    'u', 'n', 'c', 'b', 'a', 'u', 'r', 'x', 'g', 'y', 'f', 'y', 'r', 'j', 'p', 'b', 'c', 'h', 'o', <br>\n",
    "    'l', 'k', 'g', 'a', 'l', 'j', 'b', 'g', 'g', 'k', 'e', 'f', 'l', 'y', '\\n', '\\n']\n",
    "    </td>\n",
    "    \n",
    "        \n",
    "    \n",
    "</tr>\n",
    "</table>"
   ],
   "metadata": {}
  },
  {
   "cell_type": "markdown",
   "source": [
    "## 3 - Building the language model \n",
    "\n",
    "It is time to build the character-level language model for text generation. \n",
    "\n",
    "\n",
    "### 3.1 - Gradient descent \n",
    "\n",
    "In this section you will implement a function performing one step of stochastic gradient descent (with clipped gradients). You will go through the training examples one at a time, so the optimization algorithm will be stochastic gradient descent. As a reminder, here are the steps of a common optimization loop for an RNN:\n",
    "\n",
    "- Forward propagate through the RNN to compute the loss\n",
    "- Backward propagate through time to compute the gradients of the loss with respect to the parameters\n",
    "- Clip the gradients if necessary \n",
    "- Update your parameters using gradient descent \n",
    "\n",
    "**Exercise**: Implement this optimization process (one step of stochastic gradient descent). \n",
    "\n",
    "We provide you with the following functions: \n",
    "\n",
    "```python\n",
    "def rnn_forward(X, Y, a_prev, parameters):\n",
    "    \"\"\" Performs the forward propagation through the RNN and computes the cross-entropy loss.\n",
    "    It returns the loss' value as well as a \"cache\" storing values to be used in the backpropagation.\"\"\"\n",
    "    ....\n",
    "    return loss, cache\n",
    "    \n",
    "def rnn_backward(X, Y, parameters, cache):\n",
    "    \"\"\" Performs the backward propagation through time to compute the gradients of the loss with respect\n",
    "    to the parameters. It returns also all the hidden states.\"\"\"\n",
    "    ...\n",
    "    return gradients, a\n",
    "\n",
    "def update_parameters(parameters, gradients, learning_rate):\n",
    "    \"\"\" Updates parameters using the Gradient Descent Update Rule.\"\"\"\n",
    "    ...\n",
    "    return parameters\n",
    "```"
   ],
   "metadata": {}
  },
  {
   "cell_type": "code",
   "execution_count": 39,
   "source": [
    "# GRADED FUNCTION: optimize\r\n",
    "\r\n",
    "def optimize(X, Y, a_prev, parameters, learning_rate = 0.01):\r\n",
    "    \"\"\"\r\n",
    "    Execute one step of the optimization to train the model.\r\n",
    "    \r\n",
    "    Arguments:\r\n",
    "    X -- list of integers, where each integer is a number that maps to a character in the vocabulary.\r\n",
    "    Y -- list of integers, exactly the same as X but shifted one index to the left.\r\n",
    "    a_prev -- previous hidden state.\r\n",
    "    parameters -- python dictionary containing:\r\n",
    "                        Wax -- Weight matrix multiplying the input, numpy array of shape (n_a, n_x)\r\n",
    "                        Waa -- Weight matrix multiplying the hidden state, numpy array of shape (n_a, n_a)\r\n",
    "                        Wya -- Weight matrix relating the hidden-state to the output, numpy array of shape (n_y, n_a)\r\n",
    "                        b --  Bias, numpy array of shape (n_a, 1)\r\n",
    "                        by -- Bias relating the hidden-state to the output, numpy array of shape (n_y, 1)\r\n",
    "    learning_rate -- learning rate for the model.\r\n",
    "    \r\n",
    "    Returns:\r\n",
    "    loss -- value of the loss function (cross-entropy)\r\n",
    "    gradients -- python dictionary containing:\r\n",
    "                        dWax -- Gradients of input-to-hidden weights, of shape (n_a, n_x)\r\n",
    "                        dWaa -- Gradients of hidden-to-hidden weights, of shape (n_a, n_a)\r\n",
    "                        dWya -- Gradients of hidden-to-output weights, of shape (n_y, n_a)\r\n",
    "                        db -- Gradients of bias vector, of shape (n_a, 1)\r\n",
    "                        dby -- Gradients of output bias vector, of shape (n_y, 1)\r\n",
    "    a[len(X)-1] -- the last hidden state, of shape (n_a, 1)\r\n",
    "    \"\"\"\r\n",
    "    \r\n",
    "    ### START CODE HERE ###\r\n",
    "    \r\n",
    "    # Forward propagate through time (≈1 line)\r\n",
    "    loss, cache = rnn_forward(X, Y, a_prev, parameters)    \r\n",
    "    # Backpropagate through time (≈1 line)\r\n",
    "    gradients, a = rnn_backward(X, Y, parameters, cache)    \r\n",
    "    # Clip your gradients between -5 (min) and 5 (max) (≈1 line)\r\n",
    "    gradients = clip(gradients, 5)    \r\n",
    "    # Update parameters (≈1 line)\r\n",
    "    for key in parameters.keys():\r\n",
    "        parameters[key] -= learning_rate * gradients[\"d\"+key]\r\n",
    "    \r\n",
    "    ### END CODE HERE ###\r\n",
    "    \r\n",
    "    return loss, gradients, a[len(X)-1]"
   ],
   "outputs": [],
   "metadata": {
    "collapsed": true
   }
  },
  {
   "cell_type": "code",
   "execution_count": 40,
   "source": [
    "np.random.seed(1)\r\n",
    "vocab_size, n_a = 27, 100\r\n",
    "a_prev = np.random.randn(n_a, 1)\r\n",
    "Wax, Waa, Wya = np.random.randn(n_a, vocab_size), np.random.randn(n_a, n_a), np.random.randn(vocab_size, n_a)\r\n",
    "b, by = np.random.randn(n_a, 1), np.random.randn(vocab_size, 1)\r\n",
    "parameters = {\"Wax\": Wax, \"Waa\": Waa, \"Wya\": Wya, \"b\": b, \"by\": by}\r\n",
    "X = [12,3,5,11,22,3]\r\n",
    "Y = [4,14,11,22,25, 26]\r\n",
    "\r\n",
    "loss, gradients, a_last = optimize(X, Y, a_prev, parameters, learning_rate = 0.01)\r\n",
    "print(\"Loss =\", loss)\r\n",
    "print(\"gradients[\\\"dWaa\\\"][1][2] =\", gradients[\"dWaa\"][1][2])\r\n",
    "print(\"np.argmax(gradients[\\\"dWax\\\"]) =\", np.argmax(gradients[\"dWax\"]))\r\n",
    "print(\"gradients[\\\"dWya\\\"][1][2] =\", gradients[\"dWya\"][1][2])\r\n",
    "print(\"gradients[\\\"db\\\"][4] =\", gradients[\"db\"][4])\r\n",
    "print(\"gradients[\\\"dby\\\"][1] =\", gradients[\"dby\"][1])\r\n",
    "print(\"a_last[4] =\", a_last[4])"
   ],
   "outputs": [
    {
     "output_type": "stream",
     "name": "stdout",
     "text": [
      "Loss = 126.50397572165345\n",
      "gradients[\"dWaa\"][1][2] = 0.19470931534725341\n",
      "np.argmax(gradients[\"dWax\"]) = 93\n",
      "gradients[\"dWya\"][1][2] = -0.007773876032004315\n",
      "gradients[\"db\"][4] = [-0.06809825]\n",
      "gradients[\"dby\"][1] = [0.01538192]\n",
      "a_last[4] = [-1.]\n"
     ]
    }
   ],
   "metadata": {}
  },
  {
   "cell_type": "markdown",
   "source": [
    "** Expected output:**\n",
    "\n",
    "<table>\n",
    "\n",
    "\n",
    "<tr>\n",
    "    <td> \n",
    "    **Loss **\n",
    "    </td>\n",
    "    <td> \n",
    "    126.503975722\n",
    "    </td>\n",
    "</tr>\n",
    "<tr>\n",
    "    <td> \n",
    "    **gradients[\"dWaa\"][1][2]**\n",
    "    </td>\n",
    "    <td> \n",
    "    0.194709315347\n",
    "    </td>\n",
    "<tr>\n",
    "    <td> \n",
    "    **np.argmax(gradients[\"dWax\"])**\n",
    "    </td>\n",
    "    <td> 93\n",
    "    </td>\n",
    "</tr>\n",
    "<tr>\n",
    "    <td> \n",
    "    **gradients[\"dWya\"][1][2]**\n",
    "    </td>\n",
    "    <td> -0.007773876032\n",
    "    </td>\n",
    "</tr>\n",
    "<tr>\n",
    "    <td> \n",
    "    **gradients[\"db\"][4]**\n",
    "    </td>\n",
    "    <td> [-0.06809825]\n",
    "    </td>\n",
    "</tr>\n",
    "<tr>\n",
    "    <td> \n",
    "    **gradients[\"dby\"][1]**\n",
    "    </td>\n",
    "    <td>[ 0.01538192]\n",
    "    </td>\n",
    "</tr>\n",
    "<tr>\n",
    "    <td> \n",
    "    **a_last[4]**\n",
    "    </td>\n",
    "    <td> [-1.]\n",
    "    </td>\n",
    "</tr>\n",
    "\n",
    "</table>"
   ],
   "metadata": {}
  },
  {
   "cell_type": "markdown",
   "source": [
    "### 3.2 - Training the model "
   ],
   "metadata": {
    "collapsed": true
   }
  },
  {
   "cell_type": "markdown",
   "source": [
    "Given the dataset of dinosaur names, we use each line of the dataset (one name) as one training example. Every 100 steps of stochastic gradient descent, you will sample 10 randomly chosen names to see how the algorithm is doing. Remember to shuffle the dataset, so that stochastic gradient descent visits the examples in random order. \n",
    "\n",
    "**Exercise**: Follow the instructions and implement `model()`. When `examples[index]` contains one dinosaur name (string), to create an example (X, Y), you can use this:\n",
    "```python\n",
    "        index = j % len(examples)\n",
    "        X = [None] + [char_to_ix[ch] for ch in examples[index]] \n",
    "        Y = X[1:] + [char_to_ix[\"\\n\"]]\n",
    "```\n",
    "Note that we use: `index= j % len(examples)`, where `j = 1....num_iterations`, to make sure that `examples[index]` is always a valid statement (`index` is smaller than `len(examples)`).\n",
    "The first entry of `X` being `None` will be interpreted by `rnn_forward()` as setting $x^{\\langle 0 \\rangle} = \\vec{0}$. Further, this ensures that `Y` is equal to `X` but shifted one step to the left, and with an additional \"\\n\" appended to signify the end of the dinosaur name. "
   ],
   "metadata": {}
  },
  {
   "cell_type": "code",
   "execution_count": 43,
   "source": [
    "# GRADED FUNCTION: model\r\n",
    "\r\n",
    "def model(data, ix_to_char, char_to_ix, num_iterations = 35000, n_a = 50, dino_names = 7, vocab_size = 27):\r\n",
    "    \"\"\"\r\n",
    "    Trains the model and generates dinosaur names. \r\n",
    "    \r\n",
    "    Arguments:\r\n",
    "    data -- text corpus\r\n",
    "    ix_to_char -- dictionary that maps the index to a character\r\n",
    "    char_to_ix -- dictionary that maps a character to an index\r\n",
    "    num_iterations -- number of iterations to train the model for\r\n",
    "    n_a -- number of units of the RNN cell\r\n",
    "    dino_names -- number of dinosaur names you want to sample at each iteration. \r\n",
    "    vocab_size -- number of unique characters found in the text, size of the vocabulary\r\n",
    "    \r\n",
    "    Returns:\r\n",
    "    parameters -- learned parameters\r\n",
    "    \"\"\"\r\n",
    "    \r\n",
    "    # Retrieve n_x and n_y from vocab_size\r\n",
    "    n_x, n_y = vocab_size, vocab_size\r\n",
    "    \r\n",
    "    # Initialize parameters\r\n",
    "    parameters = initialize_parameters(n_a, n_x, n_y)\r\n",
    "    \r\n",
    "    # Initialize loss (this is required because we want to smooth our loss, don't worry about it)\r\n",
    "    loss = get_initial_loss(vocab_size, dino_names)\r\n",
    "    \r\n",
    "    # Build list of all dinosaur names (training examples).\r\n",
    "    with open(\"dinos.txt\") as f:\r\n",
    "        examples = f.readlines()\r\n",
    "    examples = [x.lower().strip() for x in examples]\r\n",
    "    print(f\"Num exampes = {len(examples)}\")\r\n",
    "    \r\n",
    "    # Shuffle list of all dinosaur names\r\n",
    "    np.random.seed(0)\r\n",
    "    np.random.shuffle(examples)\r\n",
    "    \r\n",
    "    # Initialize the hidden state of your LSTM\r\n",
    "    a_prev = np.zeros((n_a, 1))\r\n",
    "    \r\n",
    "    # Optimization loop\r\n",
    "    for j in range(num_iterations):\r\n",
    "        \r\n",
    "        ### START CODE HERE ###\r\n",
    "        \r\n",
    "        # Use the hint above to define one training example (X,Y) (≈ 2 lines)\r\n",
    "        index = j % len(examples)\r\n",
    "        X = [None] + [char_to_ix[ch] for ch in examples[index]]\r\n",
    "        Y = X[1:] + [char_to_ix[\"\\n\"]]\r\n",
    "        \r\n",
    "        # Perform one optimization step: Forward-prop -> Backward-prop -> Clip -> Update parameters\r\n",
    "        # Choose a learning rate of 0.01\r\n",
    "        curr_loss, gradients, a_last =  optimize(X, Y, a_prev, parameters)\r\n",
    "        \r\n",
    "        ### END CODE HERE ###\r\n",
    "        \r\n",
    "        # Use a latency trick to keep the loss smooth. It happens here to accelerate the training.\r\n",
    "        loss = smooth(loss, curr_loss)\r\n",
    "\r\n",
    "        # Every 2000 Iteration, generate \"n\" characters thanks to sample() to check if the model is learning properly\r\n",
    "        if j % 2000 == 0:\r\n",
    "            \r\n",
    "            print('Iteration: %d, Loss: %f' % (j, loss) + '\\n')\r\n",
    "            \r\n",
    "            # The number of dinosaur names to print\r\n",
    "            seed = 0\r\n",
    "            for name in range(dino_names):\r\n",
    "                \r\n",
    "                # Sample indices and print them\r\n",
    "                sampled_indices = sample(parameters, char_to_ix, seed)\r\n",
    "                print_sample(sampled_indices, ix_to_char)\r\n",
    "                \r\n",
    "                seed += 1  # To get the same result for grading purposed, increment the seed by one. \r\n",
    "      \r\n",
    "            print('\\n')\r\n",
    "        \r\n",
    "    return parameters"
   ],
   "outputs": [],
   "metadata": {
    "collapsed": true
   }
  },
  {
   "cell_type": "markdown",
   "source": [
    "Run the following cell, you should observe your model outputting random-looking characters at the first iteration. After a few thousand iterations, your model should learn to generate reasonable-looking names. "
   ],
   "metadata": {}
  },
  {
   "cell_type": "code",
   "execution_count": 47,
   "source": [
    "parameters = model(data, ix_to_char, char_to_ix)"
   ],
   "outputs": [
    {
     "output_type": "stream",
     "name": "stdout",
     "text": [
      "Num exampes = 1536\n",
      "Iteration: 0, Loss: 23.087336\n",
      "\n",
      "Nkzxwtdmfqoeyhsqwasjkjvu\n",
      "Kneb\n",
      "Kzxwtdmfqoeyhsqwasjkjvu\n",
      "Neb\n",
      "Zxwtdmfqoeyhsqwasjkjvu\n",
      "Eb\n",
      "Xwtdmfqoeyhsqwasjkjvu\n",
      "\n",
      "\n",
      "Iteration: 2000, Loss: 27.336073\n",
      "\n",
      "Mhystolonoraurus\n",
      "Imecalosaurus\n",
      "Kystolonoraurus\n",
      "Macalpsalasrus\n",
      "Yusogoloraurus\n",
      "Dabersahaus\n",
      "Torangosaurus\n",
      "\n",
      "\n",
      "Iteration: 4000, Loss: 25.118910\n",
      "\n",
      "Mevrosaurus\n",
      "Hifaagosaurus\n",
      "Ivusninesaurus\n",
      "Macalosaurus\n",
      "Xusolonosaurus\n",
      "Cabcosaurus\n",
      "Torangosaurus\n",
      "\n",
      "\n",
      "Iteration: 6000, Loss: 23.797897\n",
      "\n",
      "Niwrosaurus\n",
      "Kieealosaurus\n",
      "Kustolonosaurus\n",
      "Necaisieia\n",
      "Xustenlosaurus\n",
      "Daakosaurus\n",
      "Troflesaurus\n",
      "\n",
      "\n",
      "Iteration: 8000, Loss: 23.276764\n",
      "\n",
      "Mewussarisaurus\n",
      "Ingbalosaurus\n",
      "Iususaurus\n",
      "Macalosaurus\n",
      "Xustariosaurus\n",
      "Daadron\n",
      "Trodolophus\n",
      "\n",
      "\n",
      "Iteration: 10000, Loss: 23.055204\n",
      "\n",
      "Nixtrodon\n",
      "Kolaaeropa\n",
      "Lustreodor\n",
      "Ndaaeron\n",
      "Xustenatikynisanosaurun\n",
      "Daaerona\n",
      "Trocheoraverater\n",
      "\n",
      "\n",
      "Iteration: 12000, Loss: 22.395662\n",
      "\n",
      "Mexustanesaurus\n",
      "Jokaagosaurus\n",
      "Kustodonasaurus\n",
      "Macagosaurus\n",
      "Yussanesaurus\n",
      "Daaepticanrasaurus\n",
      "Tosaonosaurus\n",
      "\n",
      "\n",
      "Iteration: 14000, Loss: 22.384114\n",
      "\n",
      "Mawtosaurus\n",
      "Hiabaisora\n",
      "Iurroeonosaurus\n",
      "Macairophansaurus\n",
      "Yusterlosaurus\n",
      "Cabbrona\n",
      "Trochiorex\n",
      "\n",
      "\n",
      "Iteration: 16000, Loss: 22.366047\n",
      "\n",
      "Mavuosaurus\n",
      "Hehaadron\n",
      "Iutosaurus\n",
      "Macalosaurus\n",
      "Yutianchuctiosaurus\n",
      "Caadpoma\n",
      "Tosaqeosaurus\n",
      "\n",
      "\n",
      "Iteration: 18000, Loss: 21.885832\n",
      "\n",
      "Mewtosaurus\n",
      "Kikabasaurosisaurus\n",
      "Lussteratops\n",
      "Madaltopa\n",
      "Yussasaurus\n",
      "Daalosaurus\n",
      "Trolonhonsaurus\n",
      "\n",
      "\n",
      "Iteration: 20000, Loss: 21.971531\n",
      "\n",
      "Mattosaurus\n",
      "Kolaachuredosaurus\n",
      "Kustrdonnomus\n",
      "Macagosaurus\n",
      "Yurochaniaurus\n",
      "Daagosaurus\n",
      "Trrandosaurus\n",
      "\n",
      "\n",
      "Iteration: 22000, Loss: 21.857393\n",
      "\n",
      "Mexyurapior\n",
      "Kkedaerosaurus\n",
      "Kustrerasaurus\n",
      "Macagosaurus\n",
      "Yurodonis\n",
      "Daadosaurus\n",
      "Torgolosaurus\n",
      "\n",
      "\n",
      "Iteration: 24000, Loss: 21.773062\n",
      "\n",
      "Lixsoraptor\n",
      "Godaceratops\n",
      "Hystrhinlonsaurus\n",
      "Leaadosaurus\n",
      "Yutolongiaumus\n",
      "Caacosaurus\n",
      "Troceptelyxbrubornetra\n",
      "\n",
      "\n",
      "Iteration: 26000, Loss: 21.709811\n",
      "\n",
      "Meytorapioraurus\n",
      "Jiaealosaurus\n",
      "Kustohiclonthus\n",
      "Macainopedotosaurus\n",
      "Xunochanodris\n",
      "Cechysaicus\n",
      "Trochinomus\n",
      "\n",
      "\n",
      "Iteration: 28000, Loss: 21.655898\n",
      "\n",
      "Mexutoliariathus\n",
      "Higaagosaurus\n",
      "Iutosaurus\n",
      "Macaispia\n",
      "Yutocephihus\n",
      "Cacersas\n",
      "Trratasaurus\n",
      "\n",
      "\n",
      "Iteration: 30000, Loss: 21.726163\n",
      "\n",
      "Mawtosaurus\n",
      "Joedaisaurus\n",
      "Kussoenatops\n",
      "Macalosaurus\n",
      "Xutoflesaurus\n",
      "Caacosaurus\n",
      "Trocheosaurus\n",
      "\n",
      "\n",
      "Iteration: 32000, Loss: 21.447483\n",
      "\n",
      "Mexustandosaurus\n",
      "Huabairmagaptor\n",
      "Iuqunasaurus\n",
      "Macalnoractor\n",
      "Yunnanasaurus\n",
      "Caacitaeagsaurus\n",
      "Torangosaurus\n",
      "\n",
      "\n",
      "Iteration: 34000, Loss: 21.503059\n",
      "\n",
      "Lextosaurus\n",
      "Heibahosaurus\n",
      "Hyrosaurus\n",
      "Macaisaurus\n",
      "Xotonickus\n",
      "Caabosaurus\n",
      "Torapiosaurus\n",
      "\n",
      "\n"
     ]
    }
   ],
   "metadata": {
    "scrolled": true
   }
  },
  {
   "cell_type": "markdown",
   "source": [
    "## Conclusion\n",
    "\n",
    "You can see that your algorithm has started to generate plausible dinosaur names towards the end of the training. At first, it was generating random characters, but towards the end you could see dinosaur names with cool endings. Feel free to run the algorithm even longer and play with hyperparameters to see if you can get even better results. Our implemetation generated some really cool names like `maconucon`, `marloralus` and `macingsersaurus`. Your model hopefully also learned that dinosaur names tend to end in `saurus`, `don`, `aura`, `tor`, etc.\n",
    "\n",
    "If your model generates some non-cool names, don't blame the model entirely--not all actual dinosaur names sound cool. (For example, `dromaeosauroides` is an actual dinosaur name and is in the training set.) But this model should give you a set of candidates from which you can pick the coolest! \n",
    "\n",
    "This assignment had used a relatively small dataset, so that you could train an RNN quickly on a CPU. Training a model of the english language requires a much bigger dataset, and usually needs much more computation, and could run for many hours on GPUs. We ran our dinosaur name for quite some time, and so far our favoriate name is the great, undefeatable, and fierce: Mangosaurus!\n",
    "\n",
    "<img src=\"images/mangosaurus.jpeg\" style=\"width:250;height:300px;\">"
   ],
   "metadata": {
    "collapsed": true
   }
  },
  {
   "cell_type": "markdown",
   "source": [
    "## 4 - Writing like Shakespeare\n",
    "\n",
    "The rest of this notebook is optional and is not graded, but we hope you'll do it anyway since it's quite fun and informative. \n",
    "\n",
    "A similar (but more complicated) task is to generate Shakespeare poems. Instead of learning from a dataset of Dinosaur names you can use a collection of Shakespearian poems. Using LSTM cells, you can learn longer term dependencies that span many characters in the text--e.g., where a character appearing somewhere a sequence can influence what should be a different character much much later in ths sequence. These long term dependencies were less important with dinosaur names, since the names were quite short. \n",
    "\n",
    "\n",
    "<img src=\"images/shakespeare.jpg\" style=\"width:500;height:400px;\">\n",
    "<caption><center> Let's become poets! </center></caption>\n",
    "\n",
    "We have implemented a Shakespeare poem generator with Keras. Run the following cell to load the required packages and models. This may take a few minutes. "
   ],
   "metadata": {}
  },
  {
   "cell_type": "code",
   "execution_count": 12,
   "source": [
    "from __future__ import print_function\r\n",
    "from keras.callbacks import LambdaCallback\r\n",
    "from keras.models import Model, load_model, Sequential\r\n",
    "from keras.layers import Dense, Activation, Dropout, Input, Masking\r\n",
    "from keras.layers import LSTM\r\n",
    "from keras.utils.data_utils import get_file\r\n",
    "from keras.preprocessing.sequence import pad_sequences\r\n",
    "from shakespeare_utils import *\r\n",
    "import sys\r\n",
    "import io"
   ],
   "outputs": [
    {
     "output_type": "stream",
     "name": "stderr",
     "text": [
      "Using TensorFlow backend.\n"
     ]
    },
    {
     "output_type": "stream",
     "name": "stdout",
     "text": [
      "Loading text data...\n",
      "Creating training set...\n",
      "number of training examples: 31412\n",
      "Vectorizing training set...\n",
      "Loading model...\n"
     ]
    }
   ],
   "metadata": {}
  },
  {
   "cell_type": "markdown",
   "source": [
    "To save you some time, we have already trained a model for ~1000 epochs on a collection of Shakespearian poems called [*\"The Sonnets\"*](shakespeare.txt). "
   ],
   "metadata": {}
  },
  {
   "cell_type": "markdown",
   "source": [
    "Let's train the model for one more epoch. When it finishes training for an epoch---this will also take a few minutes---you can run `generate_output`, which will prompt asking you for an input (`<`40 characters). The poem will start with your sentence, and our RNN-Shakespeare will complete the rest of the poem for you! For example, try \"Forsooth this maketh no sense \" (don't enter the quotation marks). Depending on whether you include the space at the end, your results might also differ--try it both ways, and try other inputs as well. \n"
   ],
   "metadata": {}
  },
  {
   "cell_type": "code",
   "execution_count": 13,
   "source": [
    "print_callback = LambdaCallback(on_epoch_end=on_epoch_end)\r\n",
    "\r\n",
    "model.fit(x, y, batch_size=128, epochs=1, callbacks=[print_callback])"
   ],
   "outputs": [
    {
     "output_type": "stream",
     "name": "stdout",
     "text": [
      "Epoch 1/1\n",
      "31412/31412 [==============================] - 206s - loss: 2.5631   \n"
     ]
    },
    {
     "output_type": "execute_result",
     "data": {
      "text/plain": [
       "<keras.callbacks.History at 0x7fb52e2325c0>"
      ]
     },
     "metadata": {},
     "execution_count": 13
    }
   ],
   "metadata": {
    "scrolled": true
   }
  },
  {
   "cell_type": "code",
   "execution_count": 14,
   "source": [
    "# Run this cell to try with different inputs without having to re-train the model \r\n",
    "generate_output()"
   ],
   "outputs": [
    {
     "output_type": "stream",
     "name": "stdout",
     "text": [
      "Write the beginning of your poem, the Shakespeare machine will complete it. Your input is: What a day!\n",
      "\n",
      "\n",
      "Here is your poem: \n",
      "\n",
      "What a day!\n",
      "that lif how ir shi the naal be have not,\n",
      "sered but as hise wething my meauty grace.\n",
      "then you wey dae libe me of infeer,\n",
      "the earting that with thing lime thise shourl's stound be goaned.\n",
      ".\n",
      "\n",
      "\n",
      "wo true ther pas osed rute as ismebs resed\n",
      "thing wate our frull swilt, the leatere i srand be see,\n",
      "me you hor julkts date as head fart ever.\n",
      "hack she morper reenson doth fow other?\n",
      "how, his moen ound make faw"
     ]
    }
   ],
   "metadata": {}
  },
  {
   "cell_type": "markdown",
   "source": [
    "The RNN-Shakespeare model is very similar to the one you have built for dinosaur names. The only major differences are:\n",
    "- LSTMs instead of the basic RNN to capture longer-range dependencies\n",
    "- The model is a deeper, stacked LSTM model (2 layer)\n",
    "- Using Keras instead of python to simplify the code \n",
    "\n",
    "If you want to learn more, you can also check out the Keras Team's text generation implementation on GitHub: https://github.com/keras-team/keras/blob/master/examples/lstm_text_generation.py.\n",
    "\n",
    "Congratulations on finishing this notebook! "
   ],
   "metadata": {}
  },
  {
   "cell_type": "markdown",
   "source": [
    "**References**:\n",
    "- This exercise took inspiration from Andrej Karpathy's implementation: https://gist.github.com/karpathy/d4dee566867f8291f086. To learn more about text generation, also check out Karpathy's [blog post](http://karpathy.github.io/2015/05/21/rnn-effectiveness/).\n",
    "- For the Shakespearian poem generator, our implementation was based on the implementation of an LSTM text generator by the Keras team: https://github.com/keras-team/keras/blob/master/examples/lstm_text_generation.py "
   ],
   "metadata": {}
  },
  {
   "cell_type": "code",
   "execution_count": null,
   "source": [],
   "outputs": [],
   "metadata": {
    "collapsed": true
   }
  }
 ],
 "metadata": {
  "coursera": {
   "course_slug": "nlp-sequence-models",
   "graded_item_id": "1dYg0",
   "launcher_item_id": "MLhxP"
  },
  "kernelspec": {
   "name": "python3",
   "display_name": "Python 3.8.5 64-bit ('fastai': conda)"
  },
  "language_info": {
   "codemirror_mode": {
    "name": "ipython",
    "version": 3
   },
   "file_extension": ".py",
   "mimetype": "text/x-python",
   "name": "python",
   "nbconvert_exporter": "python",
   "pygments_lexer": "ipython3",
   "version": "3.8.5"
  },
  "interpreter": {
   "hash": "2ff06204c0662b9359ef4233b0e8cfcc016e07736dbe455d1edaa8487878aae2"
  }
 },
 "nbformat": 4,
 "nbformat_minor": 2
}